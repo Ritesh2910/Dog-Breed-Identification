{
 "cells": [
  {
   "cell_type": "markdown",
   "metadata": {
    "_cell_guid": "657faca0-c88f-4138-8c62-cf9974e0c894",
    "_uuid": "b30a120404b8e104774a292b45f0902e89acef68"
   },
   "source": [
    "# Transfer learning with pretrained Keras models\n"
   ]
  },
  {
   "cell_type": "code",
   "execution_count": 1,
   "metadata": {
    "_cell_guid": "d4c4a3a8-93af-4cd2-a95b-32a2526ac3a2",
    "_uuid": "151b0f031d10c081017bee0831d1e276148b413b"
   },
   "outputs": [
    {
     "name": "stderr",
     "output_type": "stream",
     "text": [
      "Using TensorFlow backend.\n"
     ]
    }
   ],
   "source": [
    "%matplotlib inline\n",
    "import numpy as np\n",
    "import pandas as pd\n",
    "import datetime as dt\n",
    "import matplotlib.pyplot as plt\n",
    "from mpl_toolkits.axes_grid1 import ImageGrid\n",
    "from os import listdir, makedirs\n",
    "from os.path import join, exists, expanduser\n",
    "from tqdm import tqdm\n",
    "from sklearn.metrics import log_loss, accuracy_score\n",
    "from keras.preprocessing import image\n",
    "from keras.applications.vgg16 import VGG16\n",
    "from keras.applications.vgg19 import VGG19\n",
    "\n",
    "from keras.applications.resnet50 import ResNet50\n",
    "from keras.applications import xception\n",
    "from keras.applications import inception_v3\n",
    "from keras.applications.vgg16 import preprocess_input, decode_predictions\n",
    "from sklearn.linear_model import LogisticRegression\n",
    "from keras import backend as K\n",
    "K.set_image_dim_ordering('tf')\n",
    "from sklearn import preprocessing\n",
    "from sklearn.model_selection import train_test_split\n",
    "\n",
    "from keras.models import Model\n",
    "from keras.layers import Dense, Dropout, Flatten"
   ]
  },
  {
   "cell_type": "code",
   "execution_count": 2,
   "metadata": {
    "_cell_guid": "c60a6481-e35a-49fd-b1b3-4c74f4adc472",
    "_uuid": "928b27a4686daca6a69bcf74bb592c9e99393992",
    "collapsed": true
   },
   "outputs": [],
   "source": [
    "\n",
    "start = dt.datetime.now()"
   ]
  },
  {
   "cell_type": "markdown",
   "metadata": {
    "_cell_guid": "7024f870-2c6f-4b86-a64e-adab46e34c1b",
    "_uuid": "48c9f0e65f26fa26375dd32289f9c59bd1353d1a"
   },
   "source": [
    "# 120 Classes"
   ]
  },
  {
   "cell_type": "code",
   "execution_count": 3,
   "metadata": {
    "_cell_guid": "8bcb2bda-88dc-4ad8-9177-0c126401c3e1",
    "_uuid": "3f62e82d998e8b2ba3999542492e632c5083a901",
    "scrolled": true
   },
   "outputs": [
    {
     "name": "stdout",
     "output_type": "stream",
     "text": [
      "30801 30801\n",
      "10357 10357\n"
     ]
    }
   ],
   "source": [
    "INPUT_SIZE = 150\n",
    "NUM_CLASSES = 120\n",
    "SEED = 35000\n",
    "data_dir = 'C:/Users/rites/Desktop/dogbreed/input/'\n",
    "labels = pd.read_csv(join(data_dir, 'label.csv'))\n",
    "labels_test = pd.read_csv(join(data_dir, 'sample_submission.csv'))\n",
    "print(len(listdir(join(data_dir, 'train'))), len(labels))\n",
    "print(len(listdir(join(data_dir, 'test'))), len(labels_test))"
   ]
  },
  {
   "cell_type": "code",
   "execution_count": 5,
   "metadata": {
    "_cell_guid": "f55b18df-3698-4146-9157-913227416e21",
    "_uuid": "ab322ce7a697d43a883b1725c7f71bf4486fd5ed"
   },
   "outputs": [],
   "source": [
    "selected_breed_list = list(labels.groupby('breed').count().sort_values(by='id', ascending=False).head(NUM_CLASSES).index)\n",
    "labels = labels[labels['breed'].isin(selected_breed_list)]\n",
    "labels['target'] = 1\n",
    "labels['rank'] = labels.groupby('breed').rank()['id']\n",
    "labels_pivot = labels.pivot('id', 'breed', 'target').reset_index().fillna(0)\n",
    "np.random.seed(seed=SEED)\n",
    "rnd = np.random.random(len(labels))\n",
    "train_idx = rnd < 0.8\n",
    "valid_idx = rnd >= 0.8\n",
    "y_train = labels_pivot[selected_breed_list].values\n",
    "ytr = y_train[train_idx]\n",
    "yv = y_train[valid_idx]\n"
   ]
  },
  {
   "cell_type": "code",
   "execution_count": 6,
   "metadata": {
    "_cell_guid": "c48fc864-d70f-4045-96eb-12de12c0ad41",
    "_uuid": "7d26cc67909b5bd70173b5f2ed8352b210e06fb3",
    "collapsed": true
   },
   "outputs": [],
   "source": [
    "def read_img(img_id, train_or_test, size):\n",
    "    \"\"\"Read and resize image.\n",
    "    # Arguments\n",
    "        img_id: string\n",
    "        train_or_test: string 'train' or 'test'.\n",
    "        size: resize the original image.\n",
    "    # Returns\n",
    "        Image as numpy array.\n",
    "    \"\"\"\n",
    "    img = image.load_img(join(data_dir, train_or_test, '%s.jpg' % img_id), target_size=size)\n",
    "    img = image.img_to_array(img)\n",
    "    return img"
   ]
  },
  {
   "cell_type": "markdown",
   "metadata": {
    "_cell_guid": "e7ee34ac-0ad9-49dc-8558-0a3ae120b287",
    "_uuid": "3bfb773d8c0b538400978a63de6ea47d7fb5d4d5"
   },
   "source": [
    "# VGG 16 Feauture Extraction"
   ]
  },
  {
   "cell_type": "markdown",
   "metadata": {
    "_cell_guid": "5759352a-e324-468c-b0b9-b360962a823f",
    "_uuid": "dd270f61ff0278c9171592f4999513b460f8f262"
   },
   "source": [
    "# Extract VGG16 bottleneck features"
   ]
  },
  {
   "cell_type": "code",
   "execution_count": 7,
   "metadata": {
    "_cell_guid": "62de53fc-18b6-45f4-8ec3-14a3287b2015",
    "_uuid": "db4f7052673aa28ca7822b9030dba078a6afb878",
    "scrolled": true
   },
   "outputs": [
    {
     "name": "stderr",
     "output_type": "stream",
     "text": [
      "24305it [01:43, 233.86it/s]\n"
     ]
    },
    {
     "name": "stdout",
     "output_type": "stream",
     "text": [
      "Train Images shape: (24305, 150, 150, 3) size: 1,640,587,500\n"
     ]
    }
   ],
   "source": [
    "INPUT_SIZE = 150\n",
    "POOLING = 'avg'\n",
    "\n",
    "x_train = np.zeros((len(labels), INPUT_SIZE, INPUT_SIZE, 3), dtype='float32')\n",
    "for i, img_id in tqdm(enumerate(labels['id'])):\n",
    "    img = read_img(img_id, 'train', (INPUT_SIZE, INPUT_SIZE))\n",
    "    x = preprocess_input(np.expand_dims(img.copy(), axis=0))\n",
    "    x_train[i] = x\n",
    "print('Train Images shape: {} size: {:,}'.format(x_train.shape, x_train.size))\n",
    "\n"
   ]
  },
  {
   "cell_type": "code",
   "execution_count": 8,
   "metadata": {},
   "outputs": [
    {
     "name": "stderr",
     "output_type": "stream",
     "text": [
      "10357it [00:49, 210.60it/s]\n"
     ]
    },
    {
     "name": "stdout",
     "output_type": "stream",
     "text": [
      "Test Images shape: (10357, 150, 150, 3) size: 699,097,500\n"
     ]
    }
   ],
   "source": [
    "INPUT_SIZE = 150\n",
    "POOLING = 'avg'\n",
    "\n",
    "x_test = np.zeros((len(labels_test), INPUT_SIZE, INPUT_SIZE, 3), dtype='float32')\n",
    "for i, img_id in tqdm(enumerate(labels_test['id'])):\n",
    "    img = read_img(img_id, 'test', (INPUT_SIZE, INPUT_SIZE))\n",
    "    x = preprocess_input(np.expand_dims(img.copy(), axis=0))\n",
    "    x_test[i] = x\n",
    "print('Test Images shape: {} size: {:,}'.format(x_test.shape, x_test.size))"
   ]
  },
  {
   "cell_type": "code",
   "execution_count": 9,
   "metadata": {},
   "outputs": [
    {
     "name": "stdout",
     "output_type": "stream",
     "text": [
      "((19415, 150, 150, 3), (4890, 150, 150, 3), (19415, 120), (4890, 120))\n",
      "_________________________________________________________________\n",
      "Layer (type)                 Output Shape              Param #   \n",
      "=================================================================\n",
      "input_1 (InputLayer)         (None, None, None, 3)     0         \n",
      "_________________________________________________________________\n",
      "block1_conv1 (Conv2D)        (None, None, None, 64)    1792      \n",
      "_________________________________________________________________\n",
      "block1_conv2 (Conv2D)        (None, None, None, 64)    36928     \n",
      "_________________________________________________________________\n",
      "block1_pool (MaxPooling2D)   (None, None, None, 64)    0         \n",
      "_________________________________________________________________\n",
      "block2_conv1 (Conv2D)        (None, None, None, 128)   73856     \n",
      "_________________________________________________________________\n",
      "block2_conv2 (Conv2D)        (None, None, None, 128)   147584    \n",
      "_________________________________________________________________\n",
      "block2_pool (MaxPooling2D)   (None, None, None, 128)   0         \n",
      "_________________________________________________________________\n",
      "block3_conv1 (Conv2D)        (None, None, None, 256)   295168    \n",
      "_________________________________________________________________\n",
      "block3_conv2 (Conv2D)        (None, None, None, 256)   590080    \n",
      "_________________________________________________________________\n",
      "block3_conv3 (Conv2D)        (None, None, None, 256)   590080    \n",
      "_________________________________________________________________\n",
      "block3_pool (MaxPooling2D)   (None, None, None, 256)   0         \n",
      "_________________________________________________________________\n",
      "block4_conv1 (Conv2D)        (None, None, None, 512)   1180160   \n",
      "_________________________________________________________________\n",
      "block4_conv2 (Conv2D)        (None, None, None, 512)   2359808   \n",
      "_________________________________________________________________\n",
      "block4_conv3 (Conv2D)        (None, None, None, 512)   2359808   \n",
      "_________________________________________________________________\n",
      "block4_pool (MaxPooling2D)   (None, None, None, 512)   0         \n",
      "_________________________________________________________________\n",
      "block5_conv1 (Conv2D)        (None, None, None, 512)   2359808   \n",
      "_________________________________________________________________\n",
      "block5_conv2 (Conv2D)        (None, None, None, 512)   2359808   \n",
      "_________________________________________________________________\n",
      "block5_conv3 (Conv2D)        (None, None, None, 512)   2359808   \n",
      "_________________________________________________________________\n",
      "block5_pool (MaxPooling2D)   (None, None, None, 512)   0         \n",
      "_________________________________________________________________\n",
      "global_average_pooling2d_1 ( (None, 512)               0         \n",
      "_________________________________________________________________\n",
      "extra_layer_1 (Dense)        (None, 512)               262656    \n",
      "_________________________________________________________________\n",
      "extra_layer_2 (Dense)        (None, 512)               262656    \n",
      "_________________________________________________________________\n",
      "dropout_1 (Dropout)          (None, 512)               0         \n",
      "_________________________________________________________________\n",
      "extra_layer_3 (Dense)        (None, 256)               131328    \n",
      "_________________________________________________________________\n",
      "dense_1 (Dense)              (None, 120)               30840     \n",
      "=================================================================\n",
      "Total params: 15,402,168\n",
      "Trainable params: 687,480\n",
      "Non-trainable params: 14,714,688\n",
      "_________________________________________________________________\n"
     ]
    }
   ],
   "source": [
    "Xtr = x_train[train_idx]\n",
    "Xv = x_train[valid_idx]\n",
    "\n",
    "print((Xtr.shape, Xv.shape, ytr.shape, yv.shape))\n",
    "vgg_bottleneck = VGG16(weights='imagenet', include_top=False, pooling=POOLING)\n",
    "x = vgg_bottleneck.output\n",
    "x = Dense(512, activation='relu', name='extra_layer_1')(x)\n",
    "x = Dense(512, activation='relu', name='extra_layer_2')(x)\n",
    "x = Dropout(0.5, noise_shape=None, seed=None)(x)\n",
    "x = Dense(256, activation='relu', name='extra_layer_3')(x)\n",
    "predictions = Dense(NUM_CLASSES, activation='softmax')(x)\n",
    "model = Model(inputs=vgg_bottleneck.input, outputs=predictions)\n",
    "\n",
    "for layer in vgg_bottleneck.layers:\n",
    "    layer.trainable = False\n",
    "\n",
    "model.compile(loss='categorical_crossentropy', optimizer='adam', metrics=['accuracy'])\n",
    "model.summary()\n"
   ]
  },
  {
   "cell_type": "code",
   "execution_count": 10,
   "metadata": {},
   "outputs": [
    {
     "name": "stdout",
     "output_type": "stream",
     "text": [
      "Train on 19415 samples, validate on 4890 samples\n",
      "Epoch 1/2\n"
     ]
    },
    {
     "name": "stdout",
     "output_type": "stream",
     "text": [
      " 6112/19415 [========>.....................] - ETA: 2:19:23 - loss: 14.8302 - acc: 0.0000e+0 - ETA: 2:12:53 - loss: 14.1308 - acc: 0.0156    - ETA: 2:13:52 - loss: 14.1527 - acc: 0.010 - ETA: 2:16:22 - loss: 13.8110 - acc: 0.007 - ETA: 2:15:27 - loss: 13.8746 - acc: 0.006 - ETA: 2:14:37 - loss: 13.9873 - acc: 0.005 - ETA: 2:15:05 - loss: 13.8895 - acc: 0.004 - ETA: 2:13:35 - loss: 13.6344 - acc: 0.003 - ETA: 2:11:34 - loss: 13.4773 - acc: 0.003 - ETA: 2:09:57 - loss: 13.2930 - acc: 0.003 - ETA: 2:08:54 - loss: 13.1825 - acc: 0.005 - ETA: 2:07:40 - loss: 13.0564 - acc: 0.005 - ETA: 2:06:37 - loss: 12.9883 - acc: 0.004 - ETA: 2:05:43 - loss: 12.8490 - acc: 0.004 - ETA: 2:04:56 - loss: 12.6801 - acc: 0.004 - ETA: 2:04:01 - loss: 12.4852 - acc: 0.003 - ETA: 2:03:18 - loss: 12.3215 - acc: 0.003 - ETA: 2:02:35 - loss: 12.1422 - acc: 0.003 - ETA: 2:01:59 - loss: 11.8901 - acc: 0.003 - ETA: 2:01:26 - loss: 11.6508 - acc: 0.006 - ETA: 2:00:50 - loss: 11.4810 - acc: 0.008 - ETA: 2:00:16 - loss: 11.2811 - acc: 0.008 - ETA: 1:59:44 - loss: 11.0772 - acc: 0.008 - ETA: 1:59:13 - loss: 10.8683 - acc: 0.007 - ETA: 1:58:47 - loss: 10.6782 - acc: 0.008 - ETA: 1:58:25 - loss: 10.5042 - acc: 0.012 - ETA: 1:57:57 - loss: 10.3690 - acc: 0.012 - ETA: 1:57:33 - loss: 10.2222 - acc: 0.012 - ETA: 1:57:11 - loss: 10.0789 - acc: 0.011 - ETA: 1:56:50 - loss: 9.9405 - acc: 0.012 - ETA: 1:56:26 - loss: 9.8024 - acc: 0.01 - ETA: 1:56:07 - loss: 9.6651 - acc: 0.01 - ETA: 1:55:50 - loss: 9.5450 - acc: 0.01 - ETA: 1:55:28 - loss: 9.4261 - acc: 0.01 - ETA: 1:55:10 - loss: 9.3225 - acc: 0.01 - ETA: 1:54:49 - loss: 9.2128 - acc: 0.01 - ETA: 1:54:29 - loss: 9.1166 - acc: 0.01 - ETA: 1:54:11 - loss: 9.0121 - acc: 0.01 - ETA: 1:53:53 - loss: 8.9208 - acc: 0.01 - ETA: 1:53:38 - loss: 8.8325 - acc: 0.01 - ETA: 1:53:21 - loss: 8.7424 - acc: 0.01 - ETA: 1:53:08 - loss: 8.6644 - acc: 0.01 - ETA: 1:52:50 - loss: 8.5817 - acc: 0.01 - ETA: 1:52:32 - loss: 8.5118 - acc: 0.01 - ETA: 1:52:16 - loss: 8.4421 - acc: 0.01 - ETA: 1:52:00 - loss: 8.3651 - acc: 0.01 - ETA: 1:51:44 - loss: 8.2976 - acc: 0.01 - ETA: 1:51:30 - loss: 8.2301 - acc: 0.01 - ETA: 1:51:15 - loss: 8.1634 - acc: 0.01 - ETA: 1:51:01 - loss: 8.0978 - acc: 0.01 - ETA: 1:50:44 - loss: 8.0269 - acc: 0.01 - ETA: 1:50:28 - loss: 7.9668 - acc: 0.01 - ETA: 1:50:11 - loss: 7.9112 - acc: 0.01 - ETA: 1:49:55 - loss: 7.8555 - acc: 0.01 - ETA: 1:49:39 - loss: 7.8031 - acc: 0.01 - ETA: 1:49:23 - loss: 7.7510 - acc: 0.01 - ETA: 1:49:09 - loss: 7.7024 - acc: 0.01 - ETA: 1:48:55 - loss: 7.6551 - acc: 0.01 - ETA: 1:48:42 - loss: 7.6133 - acc: 0.01 - ETA: 1:48:28 - loss: 7.5651 - acc: 0.01 - ETA: 1:48:15 - loss: 7.5217 - acc: 0.01 - ETA: 1:48:02 - loss: 7.4779 - acc: 0.01 - ETA: 1:47:47 - loss: 7.4353 - acc: 0.01 - ETA: 1:47:33 - loss: 7.3948 - acc: 0.01 - ETA: 1:47:19 - loss: 7.3561 - acc: 0.01 - ETA: 1:47:06 - loss: 7.3205 - acc: 0.01 - ETA: 1:46:52 - loss: 7.2854 - acc: 0.01 - ETA: 1:46:39 - loss: 7.2484 - acc: 0.01 - ETA: 1:46:27 - loss: 7.2130 - acc: 0.01 - ETA: 1:46:14 - loss: 7.1806 - acc: 0.01 - ETA: 1:46:00 - loss: 7.1510 - acc: 0.01 - ETA: 1:45:47 - loss: 7.1187 - acc: 0.01 - ETA: 1:45:35 - loss: 7.0889 - acc: 0.01 - ETA: 1:45:22 - loss: 7.0583 - acc: 0.01 - ETA: 1:45:09 - loss: 7.0259 - acc: 0.01 - ETA: 1:44:57 - loss: 6.9960 - acc: 0.01 - ETA: 1:44:44 - loss: 6.9709 - acc: 0.01 - ETA: 1:44:31 - loss: 6.9453 - acc: 0.01 - ETA: 1:44:18 - loss: 6.9214 - acc: 0.01 - ETA: 1:44:05 - loss: 6.8953 - acc: 0.01 - ETA: 1:43:52 - loss: 6.8722 - acc: 0.01 - ETA: 1:43:39 - loss: 6.8453 - acc: 0.01 - ETA: 1:43:25 - loss: 6.8226 - acc: 0.01 - ETA: 1:43:11 - loss: 6.7969 - acc: 0.01 - ETA: 1:42:58 - loss: 6.7733 - acc: 0.01 - ETA: 1:42:44 - loss: 6.7508 - acc: 0.01 - ETA: 1:42:30 - loss: 6.7290 - acc: 0.01 - ETA: 1:42:17 - loss: 6.7079 - acc: 0.01 - ETA: 1:42:03 - loss: 6.6868 - acc: 0.01 - ETA: 1:41:50 - loss: 6.6624 - acc: 0.01 - ETA: 1:41:37 - loss: 6.6398 - acc: 0.01 - ETA: 1:41:25 - loss: 6.6187 - acc: 0.01 - ETA: 1:41:11 - loss: 6.5998 - acc: 0.01 - ETA: 1:40:59 - loss: 6.5798 - acc: 0.01 - ETA: 1:40:47 - loss: 6.5637 - acc: 0.01 - ETA: 1:40:33 - loss: 6.5460 - acc: 0.01 - ETA: 1:40:20 - loss: 6.5265 - acc: 0.01 - ETA: 1:40:08 - loss: 6.5092 - acc: 0.01 - ETA: 1:39:56 - loss: 6.4894 - acc: 0.01 - ETA: 1:39:44 - loss: 6.4729 - acc: 0.01 - ETA: 1:39:31 - loss: 6.4546 - acc: 0.01 - ETA: 1:39:19 - loss: 6.4376 - acc: 0.01 - ETA: 1:39:06 - loss: 6.4193 - acc: 0.01 - ETA: 1:38:53 - loss: 6.4048 - acc: 0.01 - ETA: 1:38:40 - loss: 6.3871 - acc: 0.01 - ETA: 1:38:27 - loss: 6.3718 - acc: 0.01 - ETA: 1:38:14 - loss: 6.3534 - acc: 0.01 - ETA: 1:38:01 - loss: 6.3403 - acc: 0.01 - ETA: 1:37:48 - loss: 6.3260 - acc: 0.02 - ETA: 1:37:36 - loss: 6.3132 - acc: 0.01 - ETA: 1:37:23 - loss: 6.2985 - acc: 0.02 - ETA: 1:37:11 - loss: 6.2814 - acc: 0.02 - ETA: 1:36:59 - loss: 6.2658 - acc: 0.02 - ETA: 1:36:49 - loss: 6.2508 - acc: 0.02 - ETA: 1:36:36 - loss: 6.2357 - acc: 0.02 - ETA: 1:36:23 - loss: 6.2231 - acc: 0.02 - ETA: 1:36:11 - loss: 6.2108 - acc: 0.02 - ETA: 1:35:58 - loss: 6.1993 - acc: 0.02 - ETA: 1:35:45 - loss: 6.1835 - acc: 0.02 - ETA: 1:35:33 - loss: 6.1716 - acc: 0.02 - ETA: 1:35:20 - loss: 6.1605 - acc: 0.02 - ETA: 1:35:08 - loss: 6.1471 - acc: 0.02 - ETA: 1:34:55 - loss: 6.1353 - acc: 0.02 - ETA: 1:34:45 - loss: 6.1192 - acc: 0.02 - ETA: 1:34:35 - loss: 6.1095 - acc: 0.02 - ETA: 1:34:22 - loss: 6.0974 - acc: 0.02 - ETA: 1:34:10 - loss: 6.0860 - acc: 0.02 - ETA: 1:33:58 - loss: 6.0752 - acc: 0.02 - ETA: 1:33:45 - loss: 6.0632 - acc: 0.02 - ETA: 1:33:33 - loss: 6.0525 - acc: 0.02 - ETA: 1:33:20 - loss: 6.0416 - acc: 0.02 - ETA: 1:33:08 - loss: 6.0322 - acc: 0.02 - ETA: 1:32:59 - loss: 6.0230 - acc: 0.02 - ETA: 1:32:47 - loss: 6.0115 - acc: 0.02 - ETA: 1:32:35 - loss: 6.0018 - acc: 0.02 - ETA: 1:32:23 - loss: 5.9914 - acc: 0.02 - ETA: 1:32:10 - loss: 5.9820 - acc: 0.02 - ETA: 1:31:58 - loss: 5.9717 - acc: 0.02 - ETA: 1:31:46 - loss: 5.9618 - acc: 0.02 - ETA: 1:31:33 - loss: 5.9515 - acc: 0.02 - ETA: 1:31:22 - loss: 5.9417 - acc: 0.02 - ETA: 1:31:10 - loss: 5.9322 - acc: 0.02 - ETA: 1:30:58 - loss: 5.9228 - acc: 0.02 - ETA: 1:30:46 - loss: 5.9133 - acc: 0.02 - ETA: 1:30:33 - loss: 5.9059 - acc: 0.02 - ETA: 1:30:21 - loss: 5.8986 - acc: 0.02 - ETA: 1:30:10 - loss: 5.8889 - acc: 0.02 - ETA: 1:29:58 - loss: 5.8811 - acc: 0.02 - ETA: 1:29:46 - loss: 5.8706 - acc: 0.02 - ETA: 1:29:33 - loss: 5.8622 - acc: 0.02 - ETA: 1:29:21 - loss: 5.8543 - acc: 0.02 - ETA: 1:29:09 - loss: 5.8461 - acc: 0.02 - ETA: 1:28:56 - loss: 5.8400 - acc: 0.02 - ETA: 1:28:44 - loss: 5.8322 - acc: 0.02 - ETA: 1:28:34 - loss: 5.8228 - acc: 0.02 - ETA: 1:28:25 - loss: 5.8165 - acc: 0.02 - ETA: 1:28:14 - loss: 5.8088 - acc: 0.02 - ETA: 1:28:05 - loss: 5.8007 - acc: 0.02 - ETA: 1:27:54 - loss: 5.7924 - acc: 0.02 - ETA: 1:27:45 - loss: 5.7849 - acc: 0.02 - ETA: 1:27:35 - loss: 5.7765 - acc: 0.02 - ETA: 1:27:27 - loss: 5.7696 - acc: 0.02 - ETA: 1:27:19 - loss: 5.7612 - acc: 0.02 - ETA: 1:27:11 - loss: 5.7538 - acc: 0.02 - ETA: 1:27:01 - loss: 5.7476 - acc: 0.02 - ETA: 1:26:49 - loss: 5.7424 - acc: 0.02 - ETA: 1:26:36 - loss: 5.7352 - acc: 0.02 - ETA: 1:26:24 - loss: 5.7276 - acc: 0.02 - ETA: 1:26:11 - loss: 5.7216 - acc: 0.02 - ETA: 1:25:59 - loss: 5.7152 - acc: 0.02 - ETA: 1:25:47 - loss: 5.7058 - acc: 0.02 - ETA: 1:25:34 - loss: 5.6987 - acc: 0.02 - ETA: 1:25:22 - loss: 5.6920 - acc: 0.02 - ETA: 1:25:09 - loss: 5.6844 - acc: 0.02 - ETA: 1:24:57 - loss: 5.6764 - acc: 0.02 - ETA: 1:24:44 - loss: 5.6699 - acc: 0.02 - ETA: 1:24:32 - loss: 5.6626 - acc: 0.02 - ETA: 1:24:20 - loss: 5.6554 - acc: 0.02 - ETA: 1:24:07 - loss: 5.6504 - acc: 0.02 - ETA: 1:23:55 - loss: 5.6422 - acc: 0.02 - ETA: 1:23:42 - loss: 5.6372 - acc: 0.02 - ETA: 1:23:30 - loss: 5.6326 - acc: 0.02 - ETA: 1:23:17 - loss: 5.6250 - acc: 0.02 - ETA: 1:23:05 - loss: 5.6181 - acc: 0.02 - ETA: 1:22:53 - loss: 5.6102 - acc: 0.02 - ETA: 1:22:40 - loss: 5.6027 - acc: 0.02 - ETA: 1:22:28 - loss: 5.5943 - acc: 0.02 - ETA: 1:22:16 - loss: 5.5857 - acc: 0.03 - ETA: 1:22:04 - loss: 5.5804 - acc: 0.03 - ETA: 1:21:52 - loss: 5.5726 - acc: 0.03 - ETA: 1:21:39 - loss: 5.5648 - acc: 0.0304\b\b\b\b\b\b\b\b\b\b\b\b\b\b\b\b\b\b\b\b\b\b\b\b\b\b\b\b\b\b\b\b\b\b\b\b\b\b\b\b\b\b\b\b\b\b\b\b\b\b\b\b\b\b\b\b\b\b\b\b\b\b\b\b\b\b\b\b\b\b\b\b\b\b\b\b\b\b\b\b\b\b\b\b\b\b\b\b"
     ]
    },
    {
     "name": "stdout",
     "output_type": "stream",
     "text": [
      "12480/19415 [==================>...........] - ETA: 1:21:27 - loss: 5.5595 - acc: 0.03 - ETA: 1:21:15 - loss: 5.5540 - acc: 0.03 - ETA: 1:21:02 - loss: 5.5479 - acc: 0.03 - ETA: 1:20:50 - loss: 5.5410 - acc: 0.03 - ETA: 1:20:38 - loss: 5.5362 - acc: 0.03 - ETA: 1:20:25 - loss: 5.5299 - acc: 0.03 - ETA: 1:20:13 - loss: 5.5223 - acc: 0.03 - ETA: 1:20:01 - loss: 5.5170 - acc: 0.03 - ETA: 1:19:48 - loss: 5.5108 - acc: 0.03 - ETA: 1:19:36 - loss: 5.5067 - acc: 0.03 - ETA: 1:19:24 - loss: 5.5023 - acc: 0.03 - ETA: 1:19:12 - loss: 5.4955 - acc: 0.03 - ETA: 1:19:00 - loss: 5.4908 - acc: 0.03 - ETA: 1:18:47 - loss: 5.4853 - acc: 0.03 - ETA: 1:18:35 - loss: 5.4797 - acc: 0.03 - ETA: 1:18:23 - loss: 5.4748 - acc: 0.03 - ETA: 1:18:10 - loss: 5.4690 - acc: 0.03 - ETA: 1:17:58 - loss: 5.4638 - acc: 0.03 - ETA: 1:17:46 - loss: 5.4579 - acc: 0.03 - ETA: 1:17:34 - loss: 5.4534 - acc: 0.03 - ETA: 1:17:22 - loss: 5.4493 - acc: 0.03 - ETA: 1:17:10 - loss: 5.4424 - acc: 0.03 - ETA: 1:16:57 - loss: 5.4380 - acc: 0.03 - ETA: 1:16:45 - loss: 5.4324 - acc: 0.03 - ETA: 1:16:33 - loss: 5.4270 - acc: 0.03 - ETA: 1:16:21 - loss: 5.4222 - acc: 0.03 - ETA: 1:16:09 - loss: 5.4176 - acc: 0.03 - ETA: 1:15:56 - loss: 5.4125 - acc: 0.03 - ETA: 1:15:44 - loss: 5.4088 - acc: 0.03 - ETA: 1:15:32 - loss: 5.4031 - acc: 0.03 - ETA: 1:15:20 - loss: 5.4000 - acc: 0.03 - ETA: 1:15:08 - loss: 5.3952 - acc: 0.03 - ETA: 1:14:56 - loss: 5.3894 - acc: 0.03 - ETA: 1:14:43 - loss: 5.3839 - acc: 0.03 - ETA: 1:14:31 - loss: 5.3774 - acc: 0.03 - ETA: 1:14:19 - loss: 5.3722 - acc: 0.03 - ETA: 1:14:07 - loss: 5.3695 - acc: 0.03 - ETA: 1:13:55 - loss: 5.3642 - acc: 0.03 - ETA: 1:13:43 - loss: 5.3587 - acc: 0.03 - ETA: 1:13:30 - loss: 5.3546 - acc: 0.03 - ETA: 1:13:18 - loss: 5.3516 - acc: 0.03 - ETA: 1:13:06 - loss: 5.3466 - acc: 0.03 - ETA: 1:12:54 - loss: 5.3410 - acc: 0.03 - ETA: 1:12:42 - loss: 5.3365 - acc: 0.03 - ETA: 1:12:30 - loss: 5.3314 - acc: 0.03 - ETA: 1:12:18 - loss: 5.3264 - acc: 0.03 - ETA: 1:12:06 - loss: 5.3200 - acc: 0.03 - ETA: 1:11:54 - loss: 5.3163 - acc: 0.03 - ETA: 1:11:42 - loss: 5.3142 - acc: 0.03 - ETA: 1:11:30 - loss: 5.3097 - acc: 0.03 - ETA: 1:11:17 - loss: 5.3077 - acc: 0.03 - ETA: 1:11:05 - loss: 5.3029 - acc: 0.03 - ETA: 1:10:53 - loss: 5.3000 - acc: 0.03 - ETA: 1:10:42 - loss: 5.2957 - acc: 0.03 - ETA: 1:10:30 - loss: 5.2915 - acc: 0.03 - ETA: 1:10:17 - loss: 5.2876 - acc: 0.03 - ETA: 1:10:05 - loss: 5.2847 - acc: 0.03 - ETA: 1:09:53 - loss: 5.2793 - acc: 0.03 - ETA: 1:09:41 - loss: 5.2762 - acc: 0.03 - ETA: 1:09:29 - loss: 5.2718 - acc: 0.03 - ETA: 1:09:17 - loss: 5.2668 - acc: 0.03 - ETA: 1:09:05 - loss: 5.2619 - acc: 0.04 - ETA: 1:08:53 - loss: 5.2567 - acc: 0.04 - ETA: 1:08:41 - loss: 5.2512 - acc: 0.04 - ETA: 1:08:29 - loss: 5.2463 - acc: 0.04 - ETA: 1:08:17 - loss: 5.2426 - acc: 0.04 - ETA: 1:08:05 - loss: 5.2380 - acc: 0.04 - ETA: 1:07:53 - loss: 5.2357 - acc: 0.04 - ETA: 1:07:41 - loss: 5.2322 - acc: 0.04 - ETA: 1:07:29 - loss: 5.2287 - acc: 0.04 - ETA: 1:07:17 - loss: 5.2238 - acc: 0.04 - ETA: 1:07:05 - loss: 5.2193 - acc: 0.04 - ETA: 1:06:53 - loss: 5.2159 - acc: 0.04 - ETA: 1:06:41 - loss: 5.2125 - acc: 0.04 - ETA: 1:06:30 - loss: 5.2087 - acc: 0.04 - ETA: 1:06:18 - loss: 5.2051 - acc: 0.04 - ETA: 1:06:06 - loss: 5.2014 - acc: 0.04 - ETA: 1:05:54 - loss: 5.1983 - acc: 0.04 - ETA: 1:05:42 - loss: 5.1924 - acc: 0.04 - ETA: 1:05:30 - loss: 5.1886 - acc: 0.04 - ETA: 1:05:18 - loss: 5.1843 - acc: 0.04 - ETA: 1:05:06 - loss: 5.1793 - acc: 0.04 - ETA: 1:04:54 - loss: 5.1760 - acc: 0.04 - ETA: 1:04:42 - loss: 5.1717 - acc: 0.04 - ETA: 1:04:30 - loss: 5.1683 - acc: 0.04 - ETA: 1:04:19 - loss: 5.1657 - acc: 0.04 - ETA: 1:04:07 - loss: 5.1619 - acc: 0.04 - ETA: 1:03:56 - loss: 5.1578 - acc: 0.04 - ETA: 1:03:44 - loss: 5.1537 - acc: 0.04 - ETA: 1:03:32 - loss: 5.1495 - acc: 0.04 - ETA: 1:03:20 - loss: 5.1461 - acc: 0.04 - ETA: 1:03:08 - loss: 5.1416 - acc: 0.04 - ETA: 1:02:56 - loss: 5.1386 - acc: 0.04 - ETA: 1:02:45 - loss: 5.1345 - acc: 0.04 - ETA: 1:02:33 - loss: 5.1300 - acc: 0.04 - ETA: 1:02:21 - loss: 5.1265 - acc: 0.04 - ETA: 1:02:09 - loss: 5.1227 - acc: 0.04 - ETA: 1:01:57 - loss: 5.1195 - acc: 0.04 - ETA: 1:01:45 - loss: 5.1154 - acc: 0.04 - ETA: 1:01:33 - loss: 5.1119 - acc: 0.04 - ETA: 1:01:21 - loss: 5.1078 - acc: 0.04 - ETA: 1:01:10 - loss: 5.1039 - acc: 0.04 - ETA: 1:00:58 - loss: 5.1013 - acc: 0.04 - ETA: 1:00:46 - loss: 5.0985 - acc: 0.04 - ETA: 1:00:34 - loss: 5.0945 - acc: 0.04 - ETA: 1:00:23 - loss: 5.0915 - acc: 0.04 - ETA: 1:00:11 - loss: 5.0894 - acc: 0.04 - ETA: 59:59 - loss: 5.0866 - acc: 0.0483 - ETA: 59:47 - loss: 5.0850 - acc: 0.04 - ETA: 59:35 - loss: 5.0819 - acc: 0.04 - ETA: 59:23 - loss: 5.0788 - acc: 0.04 - ETA: 59:11 - loss: 5.0767 - acc: 0.04 - ETA: 58:59 - loss: 5.0732 - acc: 0.04 - ETA: 58:47 - loss: 5.0695 - acc: 0.05 - ETA: 58:36 - loss: 5.0660 - acc: 0.05 - ETA: 58:24 - loss: 5.0621 - acc: 0.05 - ETA: 58:12 - loss: 5.0587 - acc: 0.05 - ETA: 58:01 - loss: 5.0566 - acc: 0.05 - ETA: 57:50 - loss: 5.0538 - acc: 0.05 - ETA: 57:40 - loss: 5.0501 - acc: 0.05 - ETA: 57:29 - loss: 5.0461 - acc: 0.05 - ETA: 57:19 - loss: 5.0421 - acc: 0.05 - ETA: 57:08 - loss: 5.0387 - acc: 0.05 - ETA: 56:58 - loss: 5.0361 - acc: 0.05 - ETA: 56:48 - loss: 5.0331 - acc: 0.05 - ETA: 56:37 - loss: 5.0314 - acc: 0.05 - ETA: 56:25 - loss: 5.0276 - acc: 0.05 - ETA: 56:13 - loss: 5.0236 - acc: 0.05 - ETA: 56:01 - loss: 5.0203 - acc: 0.05 - ETA: 55:49 - loss: 5.0167 - acc: 0.05 - ETA: 55:37 - loss: 5.0139 - acc: 0.05 - ETA: 55:25 - loss: 5.0094 - acc: 0.05 - ETA: 55:13 - loss: 5.0066 - acc: 0.05 - ETA: 55:02 - loss: 5.0032 - acc: 0.05 - ETA: 54:50 - loss: 5.0004 - acc: 0.05 - ETA: 54:38 - loss: 4.9966 - acc: 0.05 - ETA: 54:26 - loss: 4.9947 - acc: 0.05 - ETA: 54:14 - loss: 4.9914 - acc: 0.05 - ETA: 54:02 - loss: 4.9884 - acc: 0.05 - ETA: 53:50 - loss: 4.9855 - acc: 0.05 - ETA: 53:39 - loss: 4.9815 - acc: 0.05 - ETA: 53:27 - loss: 4.9791 - acc: 0.05 - ETA: 53:15 - loss: 4.9761 - acc: 0.05 - ETA: 53:03 - loss: 4.9719 - acc: 0.05 - ETA: 52:51 - loss: 4.9692 - acc: 0.05 - ETA: 52:39 - loss: 4.9672 - acc: 0.05 - ETA: 52:27 - loss: 4.9658 - acc: 0.05 - ETA: 52:16 - loss: 4.9630 - acc: 0.05 - ETA: 52:04 - loss: 4.9608 - acc: 0.05 - ETA: 51:52 - loss: 4.9575 - acc: 0.05 - ETA: 51:40 - loss: 4.9535 - acc: 0.05 - ETA: 51:29 - loss: 4.9496 - acc: 0.05 - ETA: 51:17 - loss: 4.9468 - acc: 0.05 - ETA: 51:05 - loss: 4.9428 - acc: 0.05 - ETA: 50:53 - loss: 4.9401 - acc: 0.05 - ETA: 50:42 - loss: 4.9370 - acc: 0.05 - ETA: 50:30 - loss: 4.9336 - acc: 0.05 - ETA: 50:18 - loss: 4.9308 - acc: 0.05 - ETA: 50:06 - loss: 4.9272 - acc: 0.05 - ETA: 49:54 - loss: 4.9243 - acc: 0.05 - ETA: 49:42 - loss: 4.9214 - acc: 0.05 - ETA: 49:30 - loss: 4.9195 - acc: 0.05 - ETA: 49:19 - loss: 4.9165 - acc: 0.05 - ETA: 49:07 - loss: 4.9144 - acc: 0.05 - ETA: 48:55 - loss: 4.9126 - acc: 0.06 - ETA: 48:43 - loss: 4.9091 - acc: 0.06 - ETA: 48:31 - loss: 4.9066 - acc: 0.06 - ETA: 48:20 - loss: 4.9042 - acc: 0.06 - ETA: 48:08 - loss: 4.9011 - acc: 0.06 - ETA: 47:56 - loss: 4.8985 - acc: 0.06 - ETA: 47:44 - loss: 4.8962 - acc: 0.06 - ETA: 47:32 - loss: 4.8925 - acc: 0.06 - ETA: 47:20 - loss: 4.8883 - acc: 0.06 - ETA: 47:08 - loss: 4.8856 - acc: 0.06 - ETA: 46:57 - loss: 4.8835 - acc: 0.06 - ETA: 46:45 - loss: 4.8795 - acc: 0.06 - ETA: 46:33 - loss: 4.8780 - acc: 0.06 - ETA: 46:21 - loss: 4.8756 - acc: 0.06 - ETA: 46:09 - loss: 4.8733 - acc: 0.06 - ETA: 45:58 - loss: 4.8708 - acc: 0.06 - ETA: 45:46 - loss: 4.8676 - acc: 0.06 - ETA: 45:34 - loss: 4.8657 - acc: 0.06 - ETA: 45:22 - loss: 4.8635 - acc: 0.06 - ETA: 45:10 - loss: 4.8608 - acc: 0.06 - ETA: 44:59 - loss: 4.8581 - acc: 0.06 - ETA: 44:47 - loss: 4.8556 - acc: 0.06 - ETA: 44:35 - loss: 4.8537 - acc: 0.06 - ETA: 44:23 - loss: 4.8511 - acc: 0.06 - ETA: 44:11 - loss: 4.8484 - acc: 0.06 - ETA: 44:00 - loss: 4.8453 - acc: 0.06 - ETA: 43:48 - loss: 4.8435 - acc: 0.06 - ETA: 43:36 - loss: 4.8399 - acc: 0.06 - ETA: 43:24 - loss: 4.8362 - acc: 0.06 - ETA: 43:12 - loss: 4.8328 - acc: 0.06 - ETA: 43:01 - loss: 4.8308 - acc: 0.06 - ETA: 42:49 - loss: 4.8277 - acc: 0.06 - ETA: 42:37 - loss: 4.8243 - acc: 0.06 - ETA: 42:25 - loss: 4.8213 - acc: 0.06 - ETA: 42:13 - loss: 4.8187 - acc: 0.0677"
     ]
    },
    {
     "name": "stdout",
     "output_type": "stream",
     "text": [
      "19008/19415 [============================>.] - ETA: 42:02 - loss: 4.8152 - acc: 0.06 - ETA: 41:50 - loss: 4.8120 - acc: 0.06 - ETA: 41:38 - loss: 4.8092 - acc: 0.06 - ETA: 41:26 - loss: 4.8062 - acc: 0.06 - ETA: 41:15 - loss: 4.8041 - acc: 0.06 - ETA: 41:03 - loss: 4.8020 - acc: 0.06 - ETA: 40:51 - loss: 4.7993 - acc: 0.06 - ETA: 40:39 - loss: 4.7965 - acc: 0.06 - ETA: 40:27 - loss: 4.7937 - acc: 0.06 - ETA: 40:16 - loss: 4.7903 - acc: 0.06 - ETA: 40:04 - loss: 4.7875 - acc: 0.06 - ETA: 39:52 - loss: 4.7852 - acc: 0.07 - ETA: 39:40 - loss: 4.7841 - acc: 0.06 - ETA: 39:28 - loss: 4.7816 - acc: 0.07 - ETA: 39:17 - loss: 4.7802 - acc: 0.07 - ETA: 39:05 - loss: 4.7779 - acc: 0.07 - ETA: 38:53 - loss: 4.7756 - acc: 0.07 - ETA: 38:41 - loss: 4.7729 - acc: 0.07 - ETA: 38:30 - loss: 4.7705 - acc: 0.07 - ETA: 38:18 - loss: 4.7677 - acc: 0.07 - ETA: 38:06 - loss: 4.7656 - acc: 0.07 - ETA: 37:55 - loss: 4.7623 - acc: 0.07 - ETA: 37:43 - loss: 4.7603 - acc: 0.07 - ETA: 37:31 - loss: 4.7583 - acc: 0.07 - ETA: 37:19 - loss: 4.7570 - acc: 0.07 - ETA: 37:08 - loss: 4.7545 - acc: 0.07 - ETA: 36:56 - loss: 4.7525 - acc: 0.07 - ETA: 36:44 - loss: 4.7504 - acc: 0.07 - ETA: 36:32 - loss: 4.7481 - acc: 0.07 - ETA: 36:21 - loss: 4.7453 - acc: 0.07 - ETA: 36:09 - loss: 4.7437 - acc: 0.07 - ETA: 35:57 - loss: 4.7396 - acc: 0.07 - ETA: 35:45 - loss: 4.7373 - acc: 0.07 - ETA: 35:34 - loss: 4.7346 - acc: 0.07 - ETA: 35:22 - loss: 4.7312 - acc: 0.07 - ETA: 35:10 - loss: 4.7281 - acc: 0.07 - ETA: 34:58 - loss: 4.7277 - acc: 0.07 - ETA: 34:47 - loss: 4.7257 - acc: 0.07 - ETA: 34:35 - loss: 4.7235 - acc: 0.07 - ETA: 34:23 - loss: 4.7216 - acc: 0.07 - ETA: 34:12 - loss: 4.7193 - acc: 0.07 - ETA: 34:00 - loss: 4.7172 - acc: 0.07 - ETA: 33:48 - loss: 4.7150 - acc: 0.07 - ETA: 33:37 - loss: 4.7143 - acc: 0.07 - ETA: 33:25 - loss: 4.7114 - acc: 0.07 - ETA: 33:13 - loss: 4.7093 - acc: 0.07 - ETA: 33:01 - loss: 4.7070 - acc: 0.07 - ETA: 32:50 - loss: 4.7042 - acc: 0.07 - ETA: 32:38 - loss: 4.7018 - acc: 0.07 - ETA: 32:26 - loss: 4.6996 - acc: 0.07 - ETA: 32:14 - loss: 4.6983 - acc: 0.07 - ETA: 32:03 - loss: 4.6966 - acc: 0.07 - ETA: 31:52 - loss: 4.6940 - acc: 0.07 - ETA: 31:40 - loss: 4.6914 - acc: 0.07 - ETA: 31:28 - loss: 4.6898 - acc: 0.07 - ETA: 31:17 - loss: 4.6868 - acc: 0.07 - ETA: 31:05 - loss: 4.6843 - acc: 0.07 - ETA: 30:53 - loss: 4.6834 - acc: 0.07 - ETA: 30:42 - loss: 4.6830 - acc: 0.07 - ETA: 30:30 - loss: 4.6811 - acc: 0.07 - ETA: 30:18 - loss: 4.6801 - acc: 0.07 - ETA: 30:06 - loss: 4.6774 - acc: 0.07 - ETA: 29:55 - loss: 4.6750 - acc: 0.07 - ETA: 29:43 - loss: 4.6723 - acc: 0.07 - ETA: 29:31 - loss: 4.6700 - acc: 0.07 - ETA: 29:20 - loss: 4.6682 - acc: 0.07 - ETA: 29:08 - loss: 4.6672 - acc: 0.07 - ETA: 28:56 - loss: 4.6643 - acc: 0.07 - ETA: 28:44 - loss: 4.6625 - acc: 0.07 - ETA: 28:33 - loss: 4.6604 - acc: 0.07 - ETA: 28:21 - loss: 4.6600 - acc: 0.07 - ETA: 28:09 - loss: 4.6583 - acc: 0.07 - ETA: 27:58 - loss: 4.6553 - acc: 0.07 - ETA: 27:46 - loss: 4.6532 - acc: 0.07 - ETA: 27:35 - loss: 4.6503 - acc: 0.08 - ETA: 27:23 - loss: 4.6484 - acc: 0.08 - ETA: 27:12 - loss: 4.6466 - acc: 0.08 - ETA: 27:00 - loss: 4.6443 - acc: 0.08 - ETA: 26:49 - loss: 4.6428 - acc: 0.08 - ETA: 26:38 - loss: 4.6414 - acc: 0.08 - ETA: 26:26 - loss: 4.6396 - acc: 0.08 - ETA: 26:15 - loss: 4.6383 - acc: 0.08 - ETA: 26:04 - loss: 4.6363 - acc: 0.08 - ETA: 25:52 - loss: 4.6342 - acc: 0.08 - ETA: 25:40 - loss: 4.6324 - acc: 0.08 - ETA: 25:28 - loss: 4.6307 - acc: 0.08 - ETA: 25:17 - loss: 4.6288 - acc: 0.08 - ETA: 25:05 - loss: 4.6264 - acc: 0.08 - ETA: 24:53 - loss: 4.6245 - acc: 0.08 - ETA: 24:41 - loss: 4.6226 - acc: 0.08 - ETA: 24:30 - loss: 4.6209 - acc: 0.08 - ETA: 24:18 - loss: 4.6195 - acc: 0.08 - ETA: 24:06 - loss: 4.6175 - acc: 0.08 - ETA: 23:54 - loss: 4.6169 - acc: 0.08 - ETA: 23:43 - loss: 4.6147 - acc: 0.08 - ETA: 23:31 - loss: 4.6123 - acc: 0.08 - ETA: 23:19 - loss: 4.6112 - acc: 0.08 - ETA: 23:08 - loss: 4.6091 - acc: 0.08 - ETA: 22:56 - loss: 4.6066 - acc: 0.08 - ETA: 22:44 - loss: 4.6051 - acc: 0.08 - ETA: 22:32 - loss: 4.6035 - acc: 0.08 - ETA: 22:21 - loss: 4.6016 - acc: 0.08 - ETA: 22:09 - loss: 4.5983 - acc: 0.08 - ETA: 21:57 - loss: 4.5958 - acc: 0.08 - ETA: 21:45 - loss: 4.5949 - acc: 0.08 - ETA: 21:34 - loss: 4.5933 - acc: 0.08 - ETA: 21:22 - loss: 4.5920 - acc: 0.08 - ETA: 21:10 - loss: 4.5892 - acc: 0.08 - ETA: 20:59 - loss: 4.5868 - acc: 0.08 - ETA: 20:47 - loss: 4.5849 - acc: 0.08 - ETA: 20:35 - loss: 4.5833 - acc: 0.08 - ETA: 20:23 - loss: 4.5809 - acc: 0.08 - ETA: 20:12 - loss: 4.5784 - acc: 0.08 - ETA: 20:00 - loss: 4.5768 - acc: 0.08 - ETA: 19:48 - loss: 4.5743 - acc: 0.08 - ETA: 19:37 - loss: 4.5727 - acc: 0.08 - ETA: 19:25 - loss: 4.5713 - acc: 0.08 - ETA: 19:13 - loss: 4.5689 - acc: 0.08 - ETA: 19:01 - loss: 4.5663 - acc: 0.08 - ETA: 18:50 - loss: 4.5650 - acc: 0.08 - ETA: 18:38 - loss: 4.5624 - acc: 0.08 - ETA: 18:26 - loss: 4.5603 - acc: 0.08 - ETA: 18:15 - loss: 4.5585 - acc: 0.08 - ETA: 18:03 - loss: 4.5568 - acc: 0.08 - ETA: 17:51 - loss: 4.5549 - acc: 0.08 - ETA: 17:39 - loss: 4.5531 - acc: 0.08 - ETA: 17:28 - loss: 4.5508 - acc: 0.08 - ETA: 17:16 - loss: 4.5488 - acc: 0.08 - ETA: 17:04 - loss: 4.5476 - acc: 0.08 - ETA: 16:53 - loss: 4.5454 - acc: 0.08 - ETA: 16:41 - loss: 4.5436 - acc: 0.08 - ETA: 16:29 - loss: 4.5417 - acc: 0.08 - ETA: 16:17 - loss: 4.5393 - acc: 0.08 - ETA: 16:06 - loss: 4.5390 - acc: 0.08 - ETA: 15:54 - loss: 4.5365 - acc: 0.08 - ETA: 15:42 - loss: 4.5350 - acc: 0.08 - ETA: 15:31 - loss: 4.5319 - acc: 0.08 - ETA: 15:19 - loss: 4.5308 - acc: 0.08 - ETA: 15:07 - loss: 4.5282 - acc: 0.08 - ETA: 14:56 - loss: 4.5268 - acc: 0.08 - ETA: 14:44 - loss: 4.5252 - acc: 0.08 - ETA: 14:32 - loss: 4.5243 - acc: 0.08 - ETA: 14:20 - loss: 4.5221 - acc: 0.09 - ETA: 14:09 - loss: 4.5201 - acc: 0.09 - ETA: 13:57 - loss: 4.5174 - acc: 0.09 - ETA: 13:45 - loss: 4.5149 - acc: 0.09 - ETA: 13:34 - loss: 4.5130 - acc: 0.09 - ETA: 13:22 - loss: 4.5108 - acc: 0.09 - ETA: 13:10 - loss: 4.5079 - acc: 0.09 - ETA: 12:59 - loss: 4.5065 - acc: 0.09 - ETA: 12:47 - loss: 4.5048 - acc: 0.09 - ETA: 12:35 - loss: 4.5032 - acc: 0.09 - ETA: 12:23 - loss: 4.5014 - acc: 0.09 - ETA: 12:12 - loss: 4.4998 - acc: 0.09 - ETA: 12:00 - loss: 4.4981 - acc: 0.09 - ETA: 11:48 - loss: 4.4974 - acc: 0.09 - ETA: 11:37 - loss: 4.4948 - acc: 0.09 - ETA: 11:25 - loss: 4.4929 - acc: 0.09 - ETA: 11:13 - loss: 4.4909 - acc: 0.09 - ETA: 11:02 - loss: 4.4905 - acc: 0.09 - ETA: 10:50 - loss: 4.4898 - acc: 0.09 - ETA: 10:38 - loss: 4.4876 - acc: 0.09 - ETA: 10:27 - loss: 4.4852 - acc: 0.09 - ETA: 10:15 - loss: 4.4836 - acc: 0.09 - ETA: 10:03 - loss: 4.4811 - acc: 0.09 - ETA: 9:51 - loss: 4.4795 - acc: 0.0940 - ETA: 9:40 - loss: 4.4779 - acc: 0.094 - ETA: 9:28 - loss: 4.4758 - acc: 0.094 - ETA: 9:16 - loss: 4.4739 - acc: 0.094 - ETA: 9:05 - loss: 4.4726 - acc: 0.094 - ETA: 8:53 - loss: 4.4698 - acc: 0.094 - ETA: 8:41 - loss: 4.4677 - acc: 0.094 - ETA: 8:30 - loss: 4.4657 - acc: 0.095 - ETA: 8:18 - loss: 4.4633 - acc: 0.095 - ETA: 8:06 - loss: 4.4614 - acc: 0.095 - ETA: 7:55 - loss: 4.4601 - acc: 0.095 - ETA: 7:43 - loss: 4.4584 - acc: 0.095 - ETA: 7:31 - loss: 4.4568 - acc: 0.095 - ETA: 7:20 - loss: 4.4553 - acc: 0.095 - ETA: 7:08 - loss: 4.4528 - acc: 0.096 - ETA: 6:56 - loss: 4.4509 - acc: 0.096 - ETA: 6:45 - loss: 4.4498 - acc: 0.096 - ETA: 6:33 - loss: 4.4473 - acc: 0.096 - ETA: 6:21 - loss: 4.4453 - acc: 0.096 - ETA: 6:10 - loss: 4.4434 - acc: 0.096 - ETA: 5:58 - loss: 4.4413 - acc: 0.096 - ETA: 5:46 - loss: 4.4396 - acc: 0.096 - ETA: 5:35 - loss: 4.4383 - acc: 0.096 - ETA: 5:23 - loss: 4.4367 - acc: 0.097 - ETA: 5:11 - loss: 4.4344 - acc: 0.097 - ETA: 5:00 - loss: 4.4333 - acc: 0.097 - ETA: 4:48 - loss: 4.4322 - acc: 0.097 - ETA: 4:36 - loss: 4.4298 - acc: 0.098 - ETA: 4:25 - loss: 4.4275 - acc: 0.098 - ETA: 4:13 - loss: 4.4258 - acc: 0.098 - ETA: 4:01 - loss: 4.4234 - acc: 0.098 - ETA: 3:50 - loss: 4.4220 - acc: 0.098 - ETA: 3:38 - loss: 4.4196 - acc: 0.099 - ETA: 3:26 - loss: 4.4176 - acc: 0.099 - ETA: 3:15 - loss: 4.4155 - acc: 0.099 - ETA: 3:03 - loss: 4.4140 - acc: 0.099 - ETA: 2:51 - loss: 4.4119 - acc: 0.099 - ETA: 2:40 - loss: 4.4109 - acc: 0.099 - ETA: 2:28 - loss: 4.4095 - acc: 0.1002"
     ]
    },
    {
     "name": "stdout",
     "output_type": "stream",
     "text": [
      "19415/19415 [==============================] - ETA: 2:16 - loss: 4.4082 - acc: 0.100 - ETA: 2:05 - loss: 4.4070 - acc: 0.100 - ETA: 1:53 - loss: 4.4054 - acc: 0.100 - ETA: 1:41 - loss: 4.4037 - acc: 0.100 - ETA: 1:30 - loss: 4.4012 - acc: 0.101 - ETA: 1:18 - loss: 4.3989 - acc: 0.101 - ETA: 1:06 - loss: 4.3963 - acc: 0.102 - ETA: 55s - loss: 4.3947 - acc: 0.102 - ETA: 43s - loss: 4.3929 - acc: 0.10 - ETA: 31s - loss: 4.3914 - acc: 0.10 - ETA: 20s - loss: 4.3900 - acc: 0.10 - ETA: 8s - loss: 4.3888 - acc: 0.1024 - 8851s 456ms/step - loss: 4.3890 - acc: 0.1024 - val_loss: 3.1999 - val_acc: 0.2319\n",
      "Epoch 2/2\n"
     ]
    },
    {
     "name": "stdout",
     "output_type": "stream",
     "text": [
      " 6208/19415 [========>.....................] - ETA: 2:00:19 - loss: 3.4657 - acc: 0.06 - ETA: 1:58:36 - loss: 3.4131 - acc: 0.07 - ETA: 1:57:58 - loss: 3.4175 - acc: 0.12 - ETA: 1:57:13 - loss: 3.3279 - acc: 0.14 - ETA: 1:57:02 - loss: 3.3573 - acc: 0.15 - ETA: 1:56:34 - loss: 3.3867 - acc: 0.15 - ETA: 1:56:24 - loss: 3.3744 - acc: 0.14 - ETA: 1:56:02 - loss: 3.3329 - acc: 0.15 - ETA: 1:55:52 - loss: 3.3277 - acc: 0.15 - ETA: 1:55:33 - loss: 3.3326 - acc: 0.15 - ETA: 1:55:37 - loss: 3.3735 - acc: 0.15 - ETA: 1:55:19 - loss: 3.3628 - acc: 0.15 - ETA: 1:55:02 - loss: 3.3242 - acc: 0.15 - ETA: 1:55:05 - loss: 3.3283 - acc: 0.15 - ETA: 1:55:17 - loss: 3.3062 - acc: 0.16 - ETA: 1:56:05 - loss: 3.2935 - acc: 0.16 - ETA: 1:56:14 - loss: 3.2815 - acc: 0.17 - ETA: 1:56:22 - loss: 3.2767 - acc: 0.17 - ETA: 1:56:33 - loss: 3.2805 - acc: 0.17 - ETA: 1:56:41 - loss: 3.2957 - acc: 0.17 - ETA: 1:56:47 - loss: 3.2887 - acc: 0.17 - ETA: 1:56:46 - loss: 3.3053 - acc: 0.17 - ETA: 1:56:44 - loss: 3.2949 - acc: 0.17 - ETA: 1:57:03 - loss: 3.3130 - acc: 0.17 - ETA: 1:57:16 - loss: 3.3071 - acc: 0.17 - ETA: 1:57:10 - loss: 3.2960 - acc: 0.17 - ETA: 1:56:47 - loss: 3.2747 - acc: 0.18 - ETA: 1:56:26 - loss: 3.2805 - acc: 0.17 - ETA: 1:56:02 - loss: 3.2770 - acc: 0.17 - ETA: 1:55:41 - loss: 3.2798 - acc: 0.17 - ETA: 1:55:19 - loss: 3.2787 - acc: 0.17 - ETA: 1:54:57 - loss: 3.2692 - acc: 0.18 - ETA: 1:54:37 - loss: 3.2532 - acc: 0.18 - ETA: 1:54:17 - loss: 3.2518 - acc: 0.18 - ETA: 1:53:57 - loss: 3.2793 - acc: 0.18 - ETA: 1:53:38 - loss: 3.2737 - acc: 0.18 - ETA: 1:53:20 - loss: 3.2708 - acc: 0.18 - ETA: 1:53:02 - loss: 3.2808 - acc: 0.18 - ETA: 1:52:46 - loss: 3.2726 - acc: 0.18 - ETA: 1:52:31 - loss: 3.2826 - acc: 0.18 - ETA: 1:52:14 - loss: 3.2791 - acc: 0.18 - ETA: 1:51:56 - loss: 3.2894 - acc: 0.18 - ETA: 1:51:39 - loss: 3.2793 - acc: 0.18 - ETA: 1:51:22 - loss: 3.2804 - acc: 0.18 - ETA: 1:51:06 - loss: 3.2849 - acc: 0.18 - ETA: 1:50:50 - loss: 3.2951 - acc: 0.18 - ETA: 1:50:34 - loss: 3.2895 - acc: 0.18 - ETA: 1:50:17 - loss: 3.2961 - acc: 0.18 - ETA: 1:50:01 - loss: 3.2903 - acc: 0.18 - ETA: 1:49:46 - loss: 3.2924 - acc: 0.18 - ETA: 1:49:31 - loss: 3.3058 - acc: 0.18 - ETA: 1:49:15 - loss: 3.2928 - acc: 0.18 - ETA: 1:49:02 - loss: 3.2999 - acc: 0.19 - ETA: 1:48:47 - loss: 3.3048 - acc: 0.18 - ETA: 1:48:32 - loss: 3.3079 - acc: 0.18 - ETA: 1:48:17 - loss: 3.3136 - acc: 0.18 - ETA: 1:48:02 - loss: 3.3184 - acc: 0.18 - ETA: 1:47:47 - loss: 3.3124 - acc: 0.18 - ETA: 1:47:34 - loss: 3.3120 - acc: 0.18 - ETA: 1:47:23 - loss: 3.3107 - acc: 0.18 - ETA: 1:47:11 - loss: 3.3075 - acc: 0.18 - ETA: 1:47:01 - loss: 3.3102 - acc: 0.18 - ETA: 1:46:48 - loss: 3.3084 - acc: 0.18 - ETA: 1:46:35 - loss: 3.2961 - acc: 0.18 - ETA: 1:46:20 - loss: 3.2914 - acc: 0.19 - ETA: 1:46:07 - loss: 3.2911 - acc: 0.19 - ETA: 1:45:53 - loss: 3.2931 - acc: 0.19 - ETA: 1:45:40 - loss: 3.2944 - acc: 0.19 - ETA: 1:45:26 - loss: 3.2978 - acc: 0.18 - ETA: 1:45:11 - loss: 3.2988 - acc: 0.18 - ETA: 1:44:57 - loss: 3.2996 - acc: 0.18 - ETA: 1:44:45 - loss: 3.3044 - acc: 0.18 - ETA: 1:44:31 - loss: 3.3020 - acc: 0.18 - ETA: 1:44:16 - loss: 3.3006 - acc: 0.18 - ETA: 1:44:05 - loss: 3.3023 - acc: 0.18 - ETA: 1:43:54 - loss: 3.3090 - acc: 0.18 - ETA: 1:43:40 - loss: 3.3028 - acc: 0.18 - ETA: 1:43:26 - loss: 3.3049 - acc: 0.18 - ETA: 1:43:13 - loss: 3.2990 - acc: 0.19 - ETA: 1:42:59 - loss: 3.3005 - acc: 0.19 - ETA: 1:42:45 - loss: 3.2965 - acc: 0.19 - ETA: 1:42:32 - loss: 3.2916 - acc: 0.19 - ETA: 1:42:19 - loss: 3.3012 - acc: 0.19 - ETA: 1:42:05 - loss: 3.3013 - acc: 0.19 - ETA: 1:41:52 - loss: 3.2984 - acc: 0.19 - ETA: 1:41:38 - loss: 3.2979 - acc: 0.19 - ETA: 1:41:25 - loss: 3.2899 - acc: 0.19 - ETA: 1:41:12 - loss: 3.2864 - acc: 0.19 - ETA: 1:40:59 - loss: 3.2889 - acc: 0.19 - ETA: 1:40:46 - loss: 3.2833 - acc: 0.19 - ETA: 1:40:33 - loss: 3.2856 - acc: 0.19 - ETA: 1:40:20 - loss: 3.2834 - acc: 0.19 - ETA: 1:40:08 - loss: 3.2892 - acc: 0.19 - ETA: 1:39:55 - loss: 3.2868 - acc: 0.19 - ETA: 1:39:42 - loss: 3.2862 - acc: 0.19 - ETA: 1:39:29 - loss: 3.2798 - acc: 0.19 - ETA: 1:39:17 - loss: 3.2843 - acc: 0.19 - ETA: 1:39:04 - loss: 3.2840 - acc: 0.19 - ETA: 1:38:52 - loss: 3.2838 - acc: 0.19 - ETA: 1:38:42 - loss: 3.2879 - acc: 0.19 - ETA: 1:38:34 - loss: 3.2861 - acc: 0.19 - ETA: 1:38:23 - loss: 3.2865 - acc: 0.19 - ETA: 1:38:12 - loss: 3.2837 - acc: 0.19 - ETA: 1:38:00 - loss: 3.2846 - acc: 0.19 - ETA: 1:37:49 - loss: 3.2885 - acc: 0.19 - ETA: 1:37:37 - loss: 3.2880 - acc: 0.19 - ETA: 1:37:25 - loss: 3.2926 - acc: 0.19 - ETA: 1:37:12 - loss: 3.2893 - acc: 0.19 - ETA: 1:37:00 - loss: 3.2878 - acc: 0.19 - ETA: 1:36:48 - loss: 3.2894 - acc: 0.19 - ETA: 1:36:35 - loss: 3.2854 - acc: 0.19 - ETA: 1:36:23 - loss: 3.2868 - acc: 0.19 - ETA: 1:36:10 - loss: 3.2873 - acc: 0.19 - ETA: 1:35:58 - loss: 3.2848 - acc: 0.19 - ETA: 1:35:46 - loss: 3.2814 - acc: 0.19 - ETA: 1:35:33 - loss: 3.2802 - acc: 0.19 - ETA: 1:35:21 - loss: 3.2841 - acc: 0.19 - ETA: 1:35:08 - loss: 3.2821 - acc: 0.19 - ETA: 1:34:58 - loss: 3.2814 - acc: 0.19 - ETA: 1:34:46 - loss: 3.2831 - acc: 0.19 - ETA: 1:34:33 - loss: 3.2879 - acc: 0.19 - ETA: 1:34:21 - loss: 3.2880 - acc: 0.19 - ETA: 1:34:08 - loss: 3.2863 - acc: 0.19 - ETA: 1:33:56 - loss: 3.2863 - acc: 0.19 - ETA: 1:33:44 - loss: 3.2808 - acc: 0.20 - ETA: 1:33:31 - loss: 3.2792 - acc: 0.20 - ETA: 1:33:19 - loss: 3.2770 - acc: 0.20 - ETA: 1:33:08 - loss: 3.2778 - acc: 0.20 - ETA: 1:32:58 - loss: 3.2798 - acc: 0.20 - ETA: 1:32:47 - loss: 3.2816 - acc: 0.20 - ETA: 1:32:35 - loss: 3.2823 - acc: 0.20 - ETA: 1:32:22 - loss: 3.2839 - acc: 0.20 - ETA: 1:32:10 - loss: 3.2788 - acc: 0.20 - ETA: 1:31:59 - loss: 3.2774 - acc: 0.20 - ETA: 1:31:47 - loss: 3.2801 - acc: 0.20 - ETA: 1:31:36 - loss: 3.2814 - acc: 0.20 - ETA: 1:31:25 - loss: 3.2820 - acc: 0.20 - ETA: 1:31:17 - loss: 3.2835 - acc: 0.20 - ETA: 1:31:05 - loss: 3.2855 - acc: 0.20 - ETA: 1:30:53 - loss: 3.2865 - acc: 0.20 - ETA: 1:30:41 - loss: 3.2863 - acc: 0.20 - ETA: 1:30:29 - loss: 3.2858 - acc: 0.20 - ETA: 1:30:17 - loss: 3.2814 - acc: 0.20 - ETA: 1:30:05 - loss: 3.2812 - acc: 0.20 - ETA: 1:29:53 - loss: 3.2813 - acc: 0.20 - ETA: 1:29:41 - loss: 3.2799 - acc: 0.20 - ETA: 1:29:28 - loss: 3.2757 - acc: 0.20 - ETA: 1:29:16 - loss: 3.2769 - acc: 0.20 - ETA: 1:29:04 - loss: 3.2776 - acc: 0.20 - ETA: 1:28:52 - loss: 3.2774 - acc: 0.20 - ETA: 1:28:40 - loss: 3.2784 - acc: 0.20 - ETA: 1:28:29 - loss: 3.2799 - acc: 0.20 - ETA: 1:28:17 - loss: 3.2834 - acc: 0.20 - ETA: 1:28:05 - loss: 3.2809 - acc: 0.20 - ETA: 1:27:53 - loss: 3.2819 - acc: 0.20 - ETA: 1:27:41 - loss: 3.2802 - acc: 0.20 - ETA: 1:27:29 - loss: 3.2794 - acc: 0.20 - ETA: 1:29:26 - loss: 3.2786 - acc: 0.20 - ETA: 1:29:11 - loss: 3.2763 - acc: 0.20 - ETA: 1:28:56 - loss: 3.2783 - acc: 0.20 - ETA: 1:28:42 - loss: 3.2771 - acc: 0.20 - ETA: 1:28:27 - loss: 3.2778 - acc: 0.20 - ETA: 1:28:14 - loss: 3.2787 - acc: 0.20 - ETA: 1:28:01 - loss: 3.2819 - acc: 0.20 - ETA: 1:27:50 - loss: 3.2782 - acc: 0.20 - ETA: 1:27:40 - loss: 3.2767 - acc: 0.20 - ETA: 1:27:29 - loss: 3.2742 - acc: 0.20 - ETA: 1:27:19 - loss: 3.2740 - acc: 0.20 - ETA: 1:27:08 - loss: 3.2749 - acc: 0.20 - ETA: 1:26:57 - loss: 3.2748 - acc: 0.20 - ETA: 1:26:46 - loss: 3.2732 - acc: 0.20 - ETA: 1:26:37 - loss: 3.2722 - acc: 0.20 - ETA: 1:26:29 - loss: 3.2715 - acc: 0.20 - ETA: 1:26:20 - loss: 3.2702 - acc: 0.20 - ETA: 1:26:09 - loss: 3.2675 - acc: 0.20 - ETA: 1:25:55 - loss: 3.2668 - acc: 0.20 - ETA: 1:25:42 - loss: 3.2651 - acc: 0.20 - ETA: 1:25:29 - loss: 3.2636 - acc: 0.20 - ETA: 1:25:16 - loss: 3.2641 - acc: 0.20 - ETA: 1:25:03 - loss: 3.2648 - acc: 0.20 - ETA: 1:24:50 - loss: 3.2620 - acc: 0.20 - ETA: 1:24:37 - loss: 3.2626 - acc: 0.20 - ETA: 1:24:25 - loss: 3.2606 - acc: 0.20 - ETA: 1:24:12 - loss: 3.2607 - acc: 0.20 - ETA: 1:23:59 - loss: 3.2618 - acc: 0.20 - ETA: 1:23:46 - loss: 3.2632 - acc: 0.20 - ETA: 1:23:33 - loss: 3.2615 - acc: 0.20 - ETA: 1:23:20 - loss: 3.2599 - acc: 0.20 - ETA: 1:23:08 - loss: 3.2622 - acc: 0.20 - ETA: 1:22:55 - loss: 3.2616 - acc: 0.20 - ETA: 1:22:42 - loss: 3.2601 - acc: 0.20 - ETA: 1:22:30 - loss: 3.2595 - acc: 0.20 - ETA: 1:22:17 - loss: 3.2571 - acc: 0.20 - ETA: 1:22:04 - loss: 3.2578 - acc: 0.2034"
     ]
    },
    {
     "name": "stdout",
     "output_type": "stream",
     "text": [
      "12576/19415 [==================>...........] - ETA: 1:21:51 - loss: 3.2565 - acc: 0.20 - ETA: 1:21:39 - loss: 3.2593 - acc: 0.20 - ETA: 1:21:26 - loss: 3.2606 - acc: 0.20 - ETA: 1:21:13 - loss: 3.2619 - acc: 0.20 - ETA: 1:21:01 - loss: 3.2611 - acc: 0.20 - ETA: 1:20:48 - loss: 3.2586 - acc: 0.20 - ETA: 1:20:35 - loss: 3.2591 - acc: 0.20 - ETA: 1:20:23 - loss: 3.2605 - acc: 0.20 - ETA: 1:20:10 - loss: 3.2610 - acc: 0.20 - ETA: 1:19:57 - loss: 3.2615 - acc: 0.20 - ETA: 1:19:44 - loss: 3.2608 - acc: 0.20 - ETA: 1:19:32 - loss: 3.2608 - acc: 0.20 - ETA: 1:19:19 - loss: 3.2605 - acc: 0.20 - ETA: 1:19:06 - loss: 3.2582 - acc: 0.20 - ETA: 1:18:53 - loss: 3.2565 - acc: 0.20 - ETA: 1:18:41 - loss: 3.2584 - acc: 0.20 - ETA: 1:18:28 - loss: 3.2574 - acc: 0.20 - ETA: 1:18:16 - loss: 3.2559 - acc: 0.20 - ETA: 1:18:03 - loss: 3.2558 - acc: 0.20 - ETA: 1:17:50 - loss: 3.2552 - acc: 0.20 - ETA: 1:17:38 - loss: 3.2523 - acc: 0.20 - ETA: 1:17:25 - loss: 3.2505 - acc: 0.20 - ETA: 1:17:13 - loss: 3.2498 - acc: 0.20 - ETA: 1:17:00 - loss: 3.2487 - acc: 0.20 - ETA: 1:16:47 - loss: 3.2513 - acc: 0.20 - ETA: 1:16:35 - loss: 3.2526 - acc: 0.20 - ETA: 1:16:22 - loss: 3.2526 - acc: 0.20 - ETA: 1:16:10 - loss: 3.2537 - acc: 0.20 - ETA: 1:15:57 - loss: 3.2554 - acc: 0.20 - ETA: 1:15:45 - loss: 3.2535 - acc: 0.20 - ETA: 1:15:32 - loss: 3.2521 - acc: 0.20 - ETA: 1:15:20 - loss: 3.2533 - acc: 0.20 - ETA: 1:15:07 - loss: 3.2560 - acc: 0.20 - ETA: 1:14:55 - loss: 3.2573 - acc: 0.20 - ETA: 1:14:42 - loss: 3.2552 - acc: 0.20 - ETA: 1:14:30 - loss: 3.2548 - acc: 0.20 - ETA: 1:14:17 - loss: 3.2545 - acc: 0.20 - ETA: 1:14:05 - loss: 3.2550 - acc: 0.20 - ETA: 1:13:52 - loss: 3.2546 - acc: 0.20 - ETA: 1:13:40 - loss: 3.2531 - acc: 0.20 - ETA: 1:13:28 - loss: 3.2522 - acc: 0.20 - ETA: 1:13:15 - loss: 3.2512 - acc: 0.20 - ETA: 1:13:03 - loss: 3.2504 - acc: 0.20 - ETA: 1:12:50 - loss: 3.2510 - acc: 0.20 - ETA: 1:12:38 - loss: 3.2518 - acc: 0.20 - ETA: 1:12:25 - loss: 3.2518 - acc: 0.20 - ETA: 1:12:13 - loss: 3.2502 - acc: 0.20 - ETA: 1:12:01 - loss: 3.2502 - acc: 0.20 - ETA: 1:11:48 - loss: 3.2513 - acc: 0.20 - ETA: 1:11:36 - loss: 3.2508 - acc: 0.20 - ETA: 1:11:23 - loss: 3.2502 - acc: 0.20 - ETA: 1:11:11 - loss: 3.2490 - acc: 0.20 - ETA: 1:10:59 - loss: 3.2507 - acc: 0.20 - ETA: 1:10:46 - loss: 3.2483 - acc: 0.20 - ETA: 1:10:34 - loss: 3.2481 - acc: 0.20 - ETA: 1:10:22 - loss: 3.2460 - acc: 0.20 - ETA: 1:10:09 - loss: 3.2434 - acc: 0.20 - ETA: 1:09:57 - loss: 3.2433 - acc: 0.20 - ETA: 1:09:45 - loss: 3.2443 - acc: 0.20 - ETA: 1:09:33 - loss: 3.2426 - acc: 0.20 - ETA: 1:09:20 - loss: 3.2430 - acc: 0.20 - ETA: 1:09:08 - loss: 3.2449 - acc: 0.20 - ETA: 1:08:56 - loss: 3.2434 - acc: 0.20 - ETA: 1:08:43 - loss: 3.2420 - acc: 0.20 - ETA: 1:08:31 - loss: 3.2413 - acc: 0.20 - ETA: 1:08:19 - loss: 3.2412 - acc: 0.20 - ETA: 1:08:06 - loss: 3.2411 - acc: 0.20 - ETA: 1:07:54 - loss: 3.2424 - acc: 0.20 - ETA: 1:07:42 - loss: 3.2420 - acc: 0.20 - ETA: 1:07:30 - loss: 3.2438 - acc: 0.20 - ETA: 1:07:18 - loss: 3.2437 - acc: 0.20 - ETA: 1:07:06 - loss: 3.2419 - acc: 0.20 - ETA: 1:06:54 - loss: 3.2400 - acc: 0.20 - ETA: 1:06:42 - loss: 3.2385 - acc: 0.20 - ETA: 1:06:29 - loss: 3.2379 - acc: 0.20 - ETA: 1:06:17 - loss: 3.2379 - acc: 0.20 - ETA: 1:06:05 - loss: 3.2382 - acc: 0.20 - ETA: 1:05:53 - loss: 3.2370 - acc: 0.20 - ETA: 1:05:40 - loss: 3.2364 - acc: 0.20 - ETA: 1:05:28 - loss: 3.2354 - acc: 0.20 - ETA: 1:05:16 - loss: 3.2349 - acc: 0.20 - ETA: 1:05:04 - loss: 3.2355 - acc: 0.20 - ETA: 1:04:52 - loss: 3.2350 - acc: 0.20 - ETA: 1:04:40 - loss: 3.2353 - acc: 0.20 - ETA: 1:04:28 - loss: 3.2351 - acc: 0.20 - ETA: 1:04:16 - loss: 3.2332 - acc: 0.20 - ETA: 1:04:03 - loss: 3.2322 - acc: 0.20 - ETA: 1:03:51 - loss: 3.2310 - acc: 0.20 - ETA: 1:03:39 - loss: 3.2310 - acc: 0.20 - ETA: 1:03:27 - loss: 3.2301 - acc: 0.20 - ETA: 1:03:16 - loss: 3.2297 - acc: 0.20 - ETA: 1:03:03 - loss: 3.2290 - acc: 0.20 - ETA: 1:02:51 - loss: 3.2256 - acc: 0.20 - ETA: 1:02:39 - loss: 3.2263 - acc: 0.20 - ETA: 1:02:28 - loss: 3.2261 - acc: 0.20 - ETA: 1:02:16 - loss: 3.2272 - acc: 0.20 - ETA: 1:02:04 - loss: 3.2273 - acc: 0.20 - ETA: 1:01:52 - loss: 3.2258 - acc: 0.20 - ETA: 1:01:40 - loss: 3.2257 - acc: 0.20 - ETA: 1:01:28 - loss: 3.2257 - acc: 0.20 - ETA: 1:01:16 - loss: 3.2259 - acc: 0.20 - ETA: 1:01:04 - loss: 3.2261 - acc: 0.20 - ETA: 1:00:53 - loss: 3.2270 - acc: 0.20 - ETA: 1:00:42 - loss: 3.2278 - acc: 0.20 - ETA: 1:00:30 - loss: 3.2278 - acc: 0.20 - ETA: 1:00:18 - loss: 3.2283 - acc: 0.20 - ETA: 1:00:05 - loss: 3.2269 - acc: 0.20 - ETA: 59:54 - loss: 3.2277 - acc: 0.2093 - ETA: 59:42 - loss: 3.2291 - acc: 0.20 - ETA: 59:30 - loss: 3.2292 - acc: 0.20 - ETA: 59:18 - loss: 3.2282 - acc: 0.20 - ETA: 59:06 - loss: 3.2273 - acc: 0.20 - ETA: 58:54 - loss: 3.2257 - acc: 0.20 - ETA: 58:42 - loss: 3.2249 - acc: 0.20 - ETA: 58:30 - loss: 3.2253 - acc: 0.20 - ETA: 58:18 - loss: 3.2261 - acc: 0.20 - ETA: 58:06 - loss: 3.2238 - acc: 0.20 - ETA: 57:54 - loss: 3.2230 - acc: 0.20 - ETA: 57:42 - loss: 3.2220 - acc: 0.20 - ETA: 57:30 - loss: 3.2212 - acc: 0.20 - ETA: 57:18 - loss: 3.2209 - acc: 0.20 - ETA: 57:06 - loss: 3.2210 - acc: 0.20 - ETA: 56:54 - loss: 3.2194 - acc: 0.20 - ETA: 56:42 - loss: 3.2191 - acc: 0.20 - ETA: 56:30 - loss: 3.2196 - acc: 0.20 - ETA: 56:18 - loss: 3.2192 - acc: 0.20 - ETA: 56:07 - loss: 3.2177 - acc: 0.20 - ETA: 55:55 - loss: 3.2178 - acc: 0.20 - ETA: 55:44 - loss: 3.2175 - acc: 0.20 - ETA: 55:32 - loss: 3.2168 - acc: 0.20 - ETA: 55:21 - loss: 3.2169 - acc: 0.20 - ETA: 55:10 - loss: 3.2158 - acc: 0.20 - ETA: 54:58 - loss: 3.2158 - acc: 0.20 - ETA: 54:47 - loss: 3.2146 - acc: 0.20 - ETA: 54:37 - loss: 3.2137 - acc: 0.20 - ETA: 54:26 - loss: 3.2133 - acc: 0.20 - ETA: 54:15 - loss: 3.2125 - acc: 0.21 - ETA: 54:03 - loss: 3.2122 - acc: 0.21 - ETA: 53:51 - loss: 3.2127 - acc: 0.21 - ETA: 53:39 - loss: 3.2122 - acc: 0.21 - ETA: 53:27 - loss: 3.2121 - acc: 0.21 - ETA: 53:15 - loss: 3.2114 - acc: 0.21 - ETA: 53:03 - loss: 3.2099 - acc: 0.21 - ETA: 52:51 - loss: 3.2107 - acc: 0.21 - ETA: 52:39 - loss: 3.2090 - acc: 0.21 - ETA: 52:27 - loss: 3.2088 - acc: 0.21 - ETA: 52:15 - loss: 3.2085 - acc: 0.21 - ETA: 52:03 - loss: 3.2078 - acc: 0.21 - ETA: 51:51 - loss: 3.2060 - acc: 0.21 - ETA: 51:39 - loss: 3.2055 - acc: 0.21 - ETA: 51:27 - loss: 3.2058 - acc: 0.21 - ETA: 51:15 - loss: 3.2051 - acc: 0.21 - ETA: 51:03 - loss: 3.2043 - acc: 0.21 - ETA: 50:51 - loss: 3.2049 - acc: 0.21 - ETA: 50:39 - loss: 3.2049 - acc: 0.21 - ETA: 50:27 - loss: 3.2066 - acc: 0.21 - ETA: 50:15 - loss: 3.2059 - acc: 0.21 - ETA: 50:03 - loss: 3.2036 - acc: 0.21 - ETA: 49:51 - loss: 3.2018 - acc: 0.21 - ETA: 49:39 - loss: 3.2022 - acc: 0.21 - ETA: 49:27 - loss: 3.2025 - acc: 0.21 - ETA: 49:15 - loss: 3.2020 - acc: 0.21 - ETA: 49:03 - loss: 3.2004 - acc: 0.21 - ETA: 48:51 - loss: 3.1989 - acc: 0.21 - ETA: 48:39 - loss: 3.1978 - acc: 0.21 - ETA: 48:28 - loss: 3.1971 - acc: 0.21 - ETA: 48:16 - loss: 3.1957 - acc: 0.21 - ETA: 48:04 - loss: 3.1961 - acc: 0.21 - ETA: 47:52 - loss: 3.1957 - acc: 0.21 - ETA: 47:40 - loss: 3.1937 - acc: 0.21 - ETA: 47:28 - loss: 3.1936 - acc: 0.21 - ETA: 47:16 - loss: 3.1951 - acc: 0.21 - ETA: 47:04 - loss: 3.1949 - acc: 0.21 - ETA: 46:52 - loss: 3.1945 - acc: 0.21 - ETA: 46:41 - loss: 3.1930 - acc: 0.21 - ETA: 46:29 - loss: 3.1943 - acc: 0.21 - ETA: 46:17 - loss: 3.1940 - acc: 0.21 - ETA: 46:05 - loss: 3.1938 - acc: 0.21 - ETA: 45:53 - loss: 3.1934 - acc: 0.21 - ETA: 45:41 - loss: 3.1922 - acc: 0.21 - ETA: 45:29 - loss: 3.1896 - acc: 0.21 - ETA: 45:17 - loss: 3.1882 - acc: 0.21 - ETA: 45:05 - loss: 3.1879 - acc: 0.21 - ETA: 44:53 - loss: 3.1847 - acc: 0.21 - ETA: 44:41 - loss: 3.1847 - acc: 0.21 - ETA: 44:29 - loss: 3.1849 - acc: 0.21 - ETA: 44:17 - loss: 3.1843 - acc: 0.21 - ETA: 44:06 - loss: 3.1834 - acc: 0.21 - ETA: 43:54 - loss: 3.1842 - acc: 0.21 - ETA: 43:42 - loss: 3.1838 - acc: 0.21 - ETA: 43:30 - loss: 3.1832 - acc: 0.21 - ETA: 43:18 - loss: 3.1834 - acc: 0.21 - ETA: 43:06 - loss: 3.1819 - acc: 0.21 - ETA: 42:55 - loss: 3.1811 - acc: 0.21 - ETA: 42:43 - loss: 3.1820 - acc: 0.21 - ETA: 42:31 - loss: 3.1812 - acc: 0.21 - ETA: 42:19 - loss: 3.1821 - acc: 0.21 - ETA: 42:07 - loss: 3.1822 - acc: 0.21 - ETA: 41:55 - loss: 3.1824 - acc: 0.2153"
     ]
    },
    {
     "name": "stdout",
     "output_type": "stream",
     "text": [
      "19104/19415 [============================>.] - ETA: 41:43 - loss: 3.1819 - acc: 0.21 - ETA: 41:31 - loss: 3.1832 - acc: 0.21 - ETA: 41:19 - loss: 3.1825 - acc: 0.21 - ETA: 41:07 - loss: 3.1820 - acc: 0.21 - ETA: 40:56 - loss: 3.1816 - acc: 0.21 - ETA: 40:44 - loss: 3.1814 - acc: 0.21 - ETA: 40:32 - loss: 3.1815 - acc: 0.21 - ETA: 40:20 - loss: 3.1814 - acc: 0.21 - ETA: 40:08 - loss: 3.1809 - acc: 0.21 - ETA: 39:56 - loss: 3.1801 - acc: 0.21 - ETA: 39:44 - loss: 3.1799 - acc: 0.21 - ETA: 39:32 - loss: 3.1780 - acc: 0.21 - ETA: 39:20 - loss: 3.1775 - acc: 0.21 - ETA: 39:09 - loss: 3.1771 - acc: 0.21 - ETA: 38:57 - loss: 3.1768 - acc: 0.21 - ETA: 38:45 - loss: 3.1777 - acc: 0.21 - ETA: 38:33 - loss: 3.1769 - acc: 0.21 - ETA: 38:21 - loss: 3.1766 - acc: 0.21 - ETA: 38:09 - loss: 3.1761 - acc: 0.21 - ETA: 37:57 - loss: 3.1759 - acc: 0.21 - ETA: 37:45 - loss: 3.1743 - acc: 0.21 - ETA: 37:33 - loss: 3.1739 - acc: 0.21 - ETA: 37:22 - loss: 3.1730 - acc: 0.21 - ETA: 37:10 - loss: 3.1716 - acc: 0.21 - ETA: 36:58 - loss: 3.1714 - acc: 0.21 - ETA: 36:46 - loss: 3.1708 - acc: 0.21 - ETA: 36:34 - loss: 3.1701 - acc: 0.21 - ETA: 36:22 - loss: 3.1702 - acc: 0.21 - ETA: 36:10 - loss: 3.1719 - acc: 0.21 - ETA: 35:59 - loss: 3.1719 - acc: 0.21 - ETA: 35:47 - loss: 3.1708 - acc: 0.21 - ETA: 35:35 - loss: 3.1704 - acc: 0.21 - ETA: 35:23 - loss: 3.1715 - acc: 0.21 - ETA: 35:11 - loss: 3.1710 - acc: 0.21 - ETA: 34:59 - loss: 3.1692 - acc: 0.21 - ETA: 34:47 - loss: 3.1697 - acc: 0.21 - ETA: 34:36 - loss: 3.1701 - acc: 0.21 - ETA: 34:24 - loss: 3.1697 - acc: 0.21 - ETA: 34:12 - loss: 3.1695 - acc: 0.21 - ETA: 34:00 - loss: 3.1684 - acc: 0.21 - ETA: 33:49 - loss: 3.1691 - acc: 0.21 - ETA: 33:37 - loss: 3.1685 - acc: 0.21 - ETA: 33:25 - loss: 3.1690 - acc: 0.21 - ETA: 33:13 - loss: 3.1687 - acc: 0.21 - ETA: 33:01 - loss: 3.1690 - acc: 0.21 - ETA: 32:49 - loss: 3.1693 - acc: 0.21 - ETA: 32:38 - loss: 3.1699 - acc: 0.21 - ETA: 32:26 - loss: 3.1695 - acc: 0.21 - ETA: 32:14 - loss: 3.1701 - acc: 0.21 - ETA: 32:02 - loss: 3.1698 - acc: 0.21 - ETA: 31:51 - loss: 3.1700 - acc: 0.21 - ETA: 31:39 - loss: 3.1703 - acc: 0.21 - ETA: 31:27 - loss: 3.1698 - acc: 0.21 - ETA: 31:15 - loss: 3.1709 - acc: 0.21 - ETA: 31:03 - loss: 3.1702 - acc: 0.21 - ETA: 30:51 - loss: 3.1695 - acc: 0.21 - ETA: 30:40 - loss: 3.1687 - acc: 0.21 - ETA: 30:28 - loss: 3.1675 - acc: 0.21 - ETA: 30:17 - loss: 3.1671 - acc: 0.21 - ETA: 30:05 - loss: 3.1659 - acc: 0.21 - ETA: 29:53 - loss: 3.1658 - acc: 0.21 - ETA: 29:41 - loss: 3.1664 - acc: 0.21 - ETA: 29:29 - loss: 3.1656 - acc: 0.21 - ETA: 29:17 - loss: 3.1649 - acc: 0.21 - ETA: 29:06 - loss: 3.1648 - acc: 0.21 - ETA: 28:54 - loss: 3.1648 - acc: 0.21 - ETA: 28:42 - loss: 3.1640 - acc: 0.21 - ETA: 28:30 - loss: 3.1634 - acc: 0.21 - ETA: 28:18 - loss: 3.1628 - acc: 0.21 - ETA: 28:07 - loss: 3.1627 - acc: 0.21 - ETA: 27:55 - loss: 3.1625 - acc: 0.21 - ETA: 27:43 - loss: 3.1626 - acc: 0.21 - ETA: 27:31 - loss: 3.1628 - acc: 0.21 - ETA: 27:19 - loss: 3.1636 - acc: 0.21 - ETA: 27:08 - loss: 3.1631 - acc: 0.21 - ETA: 26:56 - loss: 3.1635 - acc: 0.21 - ETA: 26:44 - loss: 3.1649 - acc: 0.21 - ETA: 26:32 - loss: 3.1652 - acc: 0.21 - ETA: 26:20 - loss: 3.1649 - acc: 0.21 - ETA: 26:09 - loss: 3.1657 - acc: 0.21 - ETA: 25:57 - loss: 3.1662 - acc: 0.21 - ETA: 25:46 - loss: 3.1652 - acc: 0.21 - ETA: 25:34 - loss: 3.1647 - acc: 0.21 - ETA: 25:23 - loss: 3.1649 - acc: 0.21 - ETA: 25:11 - loss: 3.1656 - acc: 0.21 - ETA: 25:00 - loss: 3.1647 - acc: 0.21 - ETA: 24:49 - loss: 3.1642 - acc: 0.21 - ETA: 24:37 - loss: 3.1638 - acc: 0.21 - ETA: 24:26 - loss: 3.1647 - acc: 0.21 - ETA: 24:14 - loss: 3.1647 - acc: 0.21 - ETA: 24:02 - loss: 3.1642 - acc: 0.21 - ETA: 23:50 - loss: 3.1646 - acc: 0.21 - ETA: 23:38 - loss: 3.1642 - acc: 0.21 - ETA: 23:27 - loss: 3.1644 - acc: 0.21 - ETA: 23:15 - loss: 3.1642 - acc: 0.21 - ETA: 23:03 - loss: 3.1633 - acc: 0.21 - ETA: 22:51 - loss: 3.1624 - acc: 0.21 - ETA: 22:39 - loss: 3.1624 - acc: 0.21 - ETA: 22:28 - loss: 3.1618 - acc: 0.21 - ETA: 22:16 - loss: 3.1622 - acc: 0.21 - ETA: 22:04 - loss: 3.1622 - acc: 0.21 - ETA: 21:52 - loss: 3.1614 - acc: 0.21 - ETA: 21:40 - loss: 3.1618 - acc: 0.21 - ETA: 21:28 - loss: 3.1620 - acc: 0.21 - ETA: 21:17 - loss: 3.1617 - acc: 0.21 - ETA: 21:05 - loss: 3.1624 - acc: 0.21 - ETA: 20:53 - loss: 3.1626 - acc: 0.21 - ETA: 20:41 - loss: 3.1624 - acc: 0.21 - ETA: 20:29 - loss: 3.1615 - acc: 0.21 - ETA: 20:18 - loss: 3.1607 - acc: 0.21 - ETA: 20:06 - loss: 3.1590 - acc: 0.21 - ETA: 19:54 - loss: 3.1595 - acc: 0.21 - ETA: 19:42 - loss: 3.1596 - acc: 0.21 - ETA: 19:31 - loss: 3.1591 - acc: 0.21 - ETA: 19:19 - loss: 3.1587 - acc: 0.21 - ETA: 19:07 - loss: 3.1590 - acc: 0.21 - ETA: 18:55 - loss: 3.1580 - acc: 0.21 - ETA: 18:43 - loss: 3.1581 - acc: 0.21 - ETA: 18:32 - loss: 3.1577 - acc: 0.21 - ETA: 18:20 - loss: 3.1585 - acc: 0.21 - ETA: 18:08 - loss: 3.1577 - acc: 0.21 - ETA: 17:56 - loss: 3.1587 - acc: 0.21 - ETA: 17:45 - loss: 3.1576 - acc: 0.21 - ETA: 17:33 - loss: 3.1572 - acc: 0.21 - ETA: 17:21 - loss: 3.1569 - acc: 0.21 - ETA: 17:09 - loss: 3.1579 - acc: 0.21 - ETA: 16:57 - loss: 3.1581 - acc: 0.21 - ETA: 16:46 - loss: 3.1583 - acc: 0.21 - ETA: 16:34 - loss: 3.1580 - acc: 0.21 - ETA: 16:22 - loss: 3.1561 - acc: 0.21 - ETA: 16:10 - loss: 3.1564 - acc: 0.21 - ETA: 15:59 - loss: 3.1563 - acc: 0.21 - ETA: 15:47 - loss: 3.1561 - acc: 0.21 - ETA: 15:35 - loss: 3.1553 - acc: 0.21 - ETA: 15:23 - loss: 3.1549 - acc: 0.21 - ETA: 15:11 - loss: 3.1550 - acc: 0.21 - ETA: 15:00 - loss: 3.1551 - acc: 0.21 - ETA: 14:48 - loss: 3.1542 - acc: 0.21 - ETA: 14:36 - loss: 3.1534 - acc: 0.21 - ETA: 14:24 - loss: 3.1542 - acc: 0.21 - ETA: 14:13 - loss: 3.1541 - acc: 0.21 - ETA: 14:01 - loss: 3.1527 - acc: 0.21 - ETA: 13:49 - loss: 3.1523 - acc: 0.21 - ETA: 13:37 - loss: 3.1514 - acc: 0.21 - ETA: 13:26 - loss: 3.1516 - acc: 0.21 - ETA: 13:14 - loss: 3.1511 - acc: 0.21 - ETA: 13:02 - loss: 3.1500 - acc: 0.21 - ETA: 12:50 - loss: 3.1501 - acc: 0.21 - ETA: 12:39 - loss: 3.1500 - acc: 0.21 - ETA: 12:27 - loss: 3.1489 - acc: 0.21 - ETA: 12:15 - loss: 3.1484 - acc: 0.21 - ETA: 12:03 - loss: 3.1486 - acc: 0.21 - ETA: 11:52 - loss: 3.1482 - acc: 0.21 - ETA: 11:40 - loss: 3.1485 - acc: 0.21 - ETA: 11:28 - loss: 3.1470 - acc: 0.21 - ETA: 11:16 - loss: 3.1472 - acc: 0.21 - ETA: 11:05 - loss: 3.1467 - acc: 0.21 - ETA: 10:53 - loss: 3.1476 - acc: 0.21 - ETA: 10:41 - loss: 3.1474 - acc: 0.21 - ETA: 10:29 - loss: 3.1471 - acc: 0.21 - ETA: 10:18 - loss: 3.1469 - acc: 0.21 - ETA: 10:06 - loss: 3.1461 - acc: 0.21 - ETA: 9:54 - loss: 3.1451 - acc: 0.2199 - ETA: 9:42 - loss: 3.1440 - acc: 0.220 - ETA: 9:31 - loss: 3.1435 - acc: 0.220 - ETA: 9:19 - loss: 3.1431 - acc: 0.220 - ETA: 9:07 - loss: 3.1435 - acc: 0.220 - ETA: 8:55 - loss: 3.1424 - acc: 0.220 - ETA: 8:44 - loss: 3.1421 - acc: 0.220 - ETA: 8:32 - loss: 3.1417 - acc: 0.220 - ETA: 8:20 - loss: 3.1414 - acc: 0.220 - ETA: 8:08 - loss: 3.1409 - acc: 0.220 - ETA: 7:57 - loss: 3.1408 - acc: 0.220 - ETA: 7:45 - loss: 3.1419 - acc: 0.220 - ETA: 7:33 - loss: 3.1410 - acc: 0.220 - ETA: 7:22 - loss: 3.1400 - acc: 0.220 - ETA: 7:10 - loss: 3.1397 - acc: 0.220 - ETA: 6:58 - loss: 3.1383 - acc: 0.221 - ETA: 6:46 - loss: 3.1379 - acc: 0.221 - ETA: 6:35 - loss: 3.1377 - acc: 0.220 - ETA: 6:23 - loss: 3.1374 - acc: 0.221 - ETA: 6:11 - loss: 3.1368 - acc: 0.221 - ETA: 5:59 - loss: 3.1367 - acc: 0.221 - ETA: 5:48 - loss: 3.1371 - acc: 0.221 - ETA: 5:36 - loss: 3.1364 - acc: 0.221 - ETA: 5:24 - loss: 3.1361 - acc: 0.221 - ETA: 5:13 - loss: 3.1352 - acc: 0.221 - ETA: 5:01 - loss: 3.1346 - acc: 0.221 - ETA: 4:49 - loss: 3.1346 - acc: 0.221 - ETA: 4:37 - loss: 3.1340 - acc: 0.221 - ETA: 4:26 - loss: 3.1334 - acc: 0.221 - ETA: 4:14 - loss: 3.1336 - acc: 0.221 - ETA: 4:02 - loss: 3.1337 - acc: 0.221 - ETA: 3:50 - loss: 3.1327 - acc: 0.221 - ETA: 3:39 - loss: 3.1329 - acc: 0.221 - ETA: 3:27 - loss: 3.1314 - acc: 0.222 - ETA: 3:15 - loss: 3.1307 - acc: 0.222 - ETA: 3:04 - loss: 3.1295 - acc: 0.222 - ETA: 2:52 - loss: 3.1285 - acc: 0.222 - ETA: 2:40 - loss: 3.1275 - acc: 0.222 - ETA: 2:28 - loss: 3.1275 - acc: 0.222 - ETA: 2:17 - loss: 3.1268 - acc: 0.223 - ETA: 2:05 - loss: 3.1270 - acc: 0.222 - ETA: 1:53 - loss: 3.1277 - acc: 0.2228"
     ]
    },
    {
     "name": "stdout",
     "output_type": "stream",
     "text": [
      "19415/19415 [==============================] - ETA: 1:42 - loss: 3.1276 - acc: 0.222 - ETA: 1:30 - loss: 3.1270 - acc: 0.222 - ETA: 1:18 - loss: 3.1269 - acc: 0.222 - ETA: 1:06 - loss: 3.1254 - acc: 0.223 - ETA: 55s - loss: 3.1247 - acc: 0.223 - ETA: 43s - loss: 3.1244 - acc: 0.22 - ETA: 31s - loss: 3.1239 - acc: 0.22 - ETA: 20s - loss: 3.1238 - acc: 0.22 - ETA: 8s - loss: 3.1237 - acc: 0.2233 - 8877s 457ms/step - loss: 3.1240 - acc: 0.2233 - val_loss: 2.8001 - val_acc: 0.2710\n"
     ]
    },
    {
     "data": {
      "text/plain": [
       "<keras.callbacks.History at 0x23166a13cf8>"
      ]
     },
     "execution_count": 10,
     "metadata": {},
     "output_type": "execute_result"
    }
   ],
   "source": [
    "model.fit(Xtr, ytr, epochs=2, validation_data=(Xv, yv), verbose=1)"
   ]
  },
  {
   "cell_type": "code",
   "execution_count": 11,
   "metadata": {},
   "outputs": [
    {
     "name": "stdout",
     "output_type": "stream",
     "text": [
      "10357/10357 [==============================] - ETA: 1:03:2 - ETA: 1:02:2 - ETA: 1:01:5 - ETA: 1:01:3 - ETA: 1:01:2 - ETA: 1:01:2 - ETA: 1:01:0 - ETA: 1:00:5 - ETA: 1:00:4 - ETA: 1:00:3 - ETA: 1:00:2 - ETA: 1:00:1 - ETA: 1:00:0 - ETA: 59:50  - ETA: 59:3 - ETA: 59:2 - ETA: 59:1 - ETA: 58:5 - ETA: 58:4 - ETA: 58:3 - ETA: 58:1 - ETA: 58:0 - ETA: 57:5 - ETA: 57:4 - ETA: 57:3 - ETA: 57:3 - ETA: 57:2 - ETA: 57:2 - ETA: 57:1 - ETA: 57:0 - ETA: 57:0 - ETA: 56:5 - ETA: 56:4 - ETA: 56:3 - ETA: 56:3 - ETA: 56:3 - ETA: 56:3 - ETA: 56:2 - ETA: 56:0 - ETA: 55:5 - ETA: 55:4 - ETA: 55:2 - ETA: 55:1 - ETA: 55:0 - ETA: 54:4 - ETA: 54:3 - ETA: 54:1 - ETA: 54:0 - ETA: 53:5 - ETA: 53:4 - ETA: 53:2 - ETA: 53:1 - ETA: 53:0 - ETA: 52:4 - ETA: 52:3 - ETA: 52:2 - ETA: 52:1 - ETA: 51:5 - ETA: 51:4 - ETA: 51:3 - ETA: 51:2 - ETA: 51:1 - ETA: 50:5 - ETA: 50:4 - ETA: 50:3 - ETA: 50:1 - ETA: 50:0 - ETA: 49:5 - ETA: 49:4 - ETA: 49:2 - ETA: 49:1 - ETA: 49:0 - ETA: 48:5 - ETA: 48:4 - ETA: 48:2 - ETA: 48:1 - ETA: 48:0 - ETA: 47:5 - ETA: 47:3 - ETA: 47:2 - ETA: 47:1 - ETA: 47:0 - ETA: 46:5 - ETA: 46:3 - ETA: 46:2 - ETA: 46:1 - ETA: 46:0 - ETA: 45:5 - ETA: 45:3 - ETA: 45:2 - ETA: 45:1 - ETA: 45:0 - ETA: 44:5 - ETA: 44:3 - ETA: 44:2 - ETA: 44:1 - ETA: 44:0 - ETA: 43:5 - ETA: 43:3 - ETA: 43:2 - ETA: 43:1 - ETA: 43:0 - ETA: 42:5 - ETA: 42:4 - ETA: 42:2 - ETA: 42:1 - ETA: 42:0 - ETA: 41:5 - ETA: 41:4 - ETA: 41:2 - ETA: 41:1 - ETA: 41:0 - ETA: 40:5 - ETA: 40:4 - ETA: 40:2 - ETA: 40:1 - ETA: 40:0 - ETA: 39:5 - ETA: 39:4 - ETA: 39:3 - ETA: 39:1 - ETA: 39:0 - ETA: 38:5 - ETA: 38:4 - ETA: 38:3 - ETA: 38:2 - ETA: 38:0 - ETA: 37:5 - ETA: 37:4 - ETA: 37:3 - ETA: 37:2 - ETA: 37:1 - ETA: 37:0 - ETA: 36:4 - ETA: 36:3 - ETA: 36:2 - ETA: 36:1 - ETA: 36:0 - ETA: 35:5 - ETA: 35:3 - ETA: 35:2 - ETA: 35:1 - ETA: 35:0 - ETA: 34:5 - ETA: 34:4 - ETA: 34:2 - ETA: 34:1 - ETA: 34:0 - ETA: 33:5 - ETA: 33:4 - ETA: 33:3 - ETA: 33:2 - ETA: 33:0 - ETA: 32:5 - ETA: 32:4 - ETA: 32:3 - ETA: 32:2 - ETA: 32:1 - ETA: 31:5 - ETA: 31:4 - ETA: 31:3 - ETA: 31:2 - ETA: 31:1 - ETA: 31:0 - ETA: 30:5 - ETA: 30:3 - ETA: 30:2 - ETA: 30:1 - ETA: 30:0 - ETA: 29:5 - ETA: 29:4 - ETA: 29:2 - ETA: 29:1 - ETA: 29:0 - ETA: 28:5 - ETA: 28:4 - ETA: 28:3 - ETA: 28:1 - ETA: 28:0 - ETA: 27:5 - ETA: 27:4 - ETA: 27:3 - ETA: 27:2 - ETA: 27:1 - ETA: 27:0 - ETA: 26:5 - ETA: 26:4 - ETA: 26:3 - ETA: 26:1 - ETA: 26:0 - ETA: 25:5 - ETA: 25:4 - ETA: 25:3 - ETA: 25:2 - ETA: 25:0 - ETA: 24:5 - ETA: 24:4 - ETA: 24:3 - ETA: 24:2 - ETA: 24:0 - ETA: 23:5 - ETA: 23:4 - ETA: 23:3 - ETA: 23:2 - ETA: 23:1 - ETA: 22:5 - ETA: 22:4 - ETA: 22:3 - ETA: 22:2 - ETA: 22:1 - ETA: 22:0 - ETA: 21:5 - ETA: 21:3 - ETA: 21:2 - ETA: 21:1 - ETA: 21:0 - ETA: 20:5 - ETA: 20:4 - ETA: 20:2 - ETA: 20:1 - ETA: 20:0 - ETA: 19:5 - ETA: 19:4 - ETA: 19:3 - ETA: 19:1 - ETA: 19:0 - ETA: 18:5 - ETA: 18:4 - ETA: 18:3 - ETA: 18:1 - ETA: 18:0 - ETA: 17:5 - ETA: 17:4 - ETA: 17:3 - ETA: 17:2 - ETA: 17:0 - ETA: 16:5 - ETA: 16:4 - ETA: 16:3 - ETA: 16:2 - ETA: 16:1 - ETA: 15:5 - ETA: 15:4 - ETA: 15:3 - ETA: 15:2 - ETA: 15:1 - ETA: 14:5 - ETA: 14:4 - ETA: 14:3 - ETA: 14:2 - ETA: 14:1 - ETA: 14:0 - ETA: 13:4 - ETA: 13:3 - ETA: 13:2 - ETA: 13:1 - ETA: 13:0 - ETA: 12:5 - ETA: 12:3 - ETA: 12:2 - ETA: 12:1 - ETA: 12:0 - ETA: 11:5 - ETA: 11:3 - ETA: 11:2 - ETA: 11:1 - ETA: 11:0 - ETA: 10:5 - ETA: 10:4 - ETA: 10:2 - ETA: 10:1 - ETA: 10:0 - ETA: 9:5 - ETA: 9: - ETA: 9: - ETA: 9: - ETA: 9: - ETA: 8: - ETA: 8: - ETA: 8: - ETA: 8: - ETA: 8: - ETA: 7: - ETA: 7: - ETA: 7: - ETA: 7: - ETA: 7: - ETA: 6: - ETA: 6: - ETA: 6: - ETA: 6: - ETA: 6: - ETA: 5: - ETA: 5: - ETA: 5: - ETA: 5: - ETA: 5: - ETA: 5: - ETA: 4: - ETA: 4: - ETA: 4: - ETA: 4: - ETA: 4: - ETA: 3: - ETA: 3: - ETA: 3: - ETA: 3: - ETA: 3: - ETA: 2: - ETA: 2: - ETA: 2: - ETA: 2: - ETA: 2: - ETA: 1: - ETA: 1: - ETA: 1: - ETA: 1: - ETA: 1: - ETA: 54s - ETA: 42 - ETA: 31 - ETA: 19 - ETA: 7 - 3790s 366ms/step\n"
     ]
    }
   ],
   "source": [
    "preds = model.predict(x_test, verbose=1)"
   ]
  },
  {
   "cell_type": "code",
   "execution_count": 12,
   "metadata": {
    "collapsed": true
   },
   "outputs": [],
   "source": [
    "targets_series = pd.Series(labels['breed'])\n",
    "one_hot = pd.get_dummies(targets_series, sparse = True)"
   ]
  },
  {
   "cell_type": "code",
   "execution_count": 13,
   "metadata": {},
   "outputs": [
    {
     "data": {
      "text/html": [
       "<div>\n",
       "<style>\n",
       "    .dataframe thead tr:only-child th {\n",
       "        text-align: right;\n",
       "    }\n",
       "\n",
       "    .dataframe thead th {\n",
       "        text-align: left;\n",
       "    }\n",
       "\n",
       "    .dataframe tbody tr th {\n",
       "        vertical-align: top;\n",
       "    }\n",
       "</style>\n",
       "<table border=\"1\" class=\"dataframe\">\n",
       "  <thead>\n",
       "    <tr style=\"text-align: right;\">\n",
       "      <th></th>\n",
       "      <th>id</th>\n",
       "      <th>Afghan_hound</th>\n",
       "      <th>African_hunting_dog</th>\n",
       "      <th>Airedale</th>\n",
       "      <th>American_Staffordshire_terrier</th>\n",
       "      <th>Appenzeller</th>\n",
       "      <th>Australian_terrier</th>\n",
       "      <th>Bedlington_terrier</th>\n",
       "      <th>Bernese_mountain_dog</th>\n",
       "      <th>Blenheim_spaniel</th>\n",
       "      <th>...</th>\n",
       "      <th>schipperke</th>\n",
       "      <th>silky_terrier</th>\n",
       "      <th>soft-coated_wheaten_terrier</th>\n",
       "      <th>standard_poodle</th>\n",
       "      <th>standard_schnauzer</th>\n",
       "      <th>toy_poodle</th>\n",
       "      <th>toy_terrier</th>\n",
       "      <th>vizsla</th>\n",
       "      <th>whippet</th>\n",
       "      <th>wire-haired_fox_terrier</th>\n",
       "    </tr>\n",
       "  </thead>\n",
       "  <tbody>\n",
       "    <tr>\n",
       "      <th>0</th>\n",
       "      <td>000621fb3cbb32d8935728e48679680e</td>\n",
       "      <td>0.044146</td>\n",
       "      <td>0.000836</td>\n",
       "      <td>1.491983e-03</td>\n",
       "      <td>0.025924</td>\n",
       "      <td>0.031389</td>\n",
       "      <td>0.001793</td>\n",
       "      <td>0.007022</td>\n",
       "      <td>0.000778</td>\n",
       "      <td>0.000100</td>\n",
       "      <td>...</td>\n",
       "      <td>0.000984</td>\n",
       "      <td>0.006930</td>\n",
       "      <td>0.000143</td>\n",
       "      <td>0.020064</td>\n",
       "      <td>6.449800e-03</td>\n",
       "      <td>0.000077</td>\n",
       "      <td>0.000434</td>\n",
       "      <td>0.001953</td>\n",
       "      <td>0.001831</td>\n",
       "      <td>4.572930e-06</td>\n",
       "    </tr>\n",
       "    <tr>\n",
       "      <th>1</th>\n",
       "      <td>00102ee9d8eb90812350685311fe5890</td>\n",
       "      <td>0.000053</td>\n",
       "      <td>0.002142</td>\n",
       "      <td>4.876950e-07</td>\n",
       "      <td>0.001794</td>\n",
       "      <td>0.000006</td>\n",
       "      <td>0.000016</td>\n",
       "      <td>0.000054</td>\n",
       "      <td>0.000005</td>\n",
       "      <td>0.000065</td>\n",
       "      <td>...</td>\n",
       "      <td>0.000034</td>\n",
       "      <td>0.003036</td>\n",
       "      <td>0.000013</td>\n",
       "      <td>0.000136</td>\n",
       "      <td>9.788290e-07</td>\n",
       "      <td>0.000027</td>\n",
       "      <td>0.000311</td>\n",
       "      <td>0.000005</td>\n",
       "      <td>0.006817</td>\n",
       "      <td>4.646315e-07</td>\n",
       "    </tr>\n",
       "    <tr>\n",
       "      <th>2</th>\n",
       "      <td>0012a730dfa437f5f3613fb75efcd4ce</td>\n",
       "      <td>0.005891</td>\n",
       "      <td>0.009408</td>\n",
       "      <td>5.483827e-03</td>\n",
       "      <td>0.004339</td>\n",
       "      <td>0.004178</td>\n",
       "      <td>0.003435</td>\n",
       "      <td>0.003224</td>\n",
       "      <td>0.006300</td>\n",
       "      <td>0.002957</td>\n",
       "      <td>...</td>\n",
       "      <td>0.019221</td>\n",
       "      <td>0.002095</td>\n",
       "      <td>0.002253</td>\n",
       "      <td>0.003296</td>\n",
       "      <td>5.883866e-03</td>\n",
       "      <td>0.004804</td>\n",
       "      <td>0.004247</td>\n",
       "      <td>0.010778</td>\n",
       "      <td>0.001348</td>\n",
       "      <td>5.693787e-03</td>\n",
       "    </tr>\n",
       "    <tr>\n",
       "      <th>3</th>\n",
       "      <td>001510bc8570bbeee98c8d80c8a95ec1</td>\n",
       "      <td>0.006861</td>\n",
       "      <td>0.017898</td>\n",
       "      <td>7.950988e-03</td>\n",
       "      <td>0.016219</td>\n",
       "      <td>0.004661</td>\n",
       "      <td>0.004465</td>\n",
       "      <td>0.005952</td>\n",
       "      <td>0.013875</td>\n",
       "      <td>0.004067</td>\n",
       "      <td>...</td>\n",
       "      <td>0.004622</td>\n",
       "      <td>0.004725</td>\n",
       "      <td>0.012811</td>\n",
       "      <td>0.001946</td>\n",
       "      <td>3.623846e-03</td>\n",
       "      <td>0.012221</td>\n",
       "      <td>0.001624</td>\n",
       "      <td>0.000949</td>\n",
       "      <td>0.002946</td>\n",
       "      <td>1.911383e-03</td>\n",
       "    </tr>\n",
       "    <tr>\n",
       "      <th>4</th>\n",
       "      <td>001a5f3114548acdefa3d4da05474c2e</td>\n",
       "      <td>0.063607</td>\n",
       "      <td>0.016154</td>\n",
       "      <td>5.255191e-05</td>\n",
       "      <td>0.004238</td>\n",
       "      <td>0.001516</td>\n",
       "      <td>0.050634</td>\n",
       "      <td>0.000908</td>\n",
       "      <td>0.000330</td>\n",
       "      <td>0.003061</td>\n",
       "      <td>...</td>\n",
       "      <td>0.000522</td>\n",
       "      <td>0.000324</td>\n",
       "      <td>0.000124</td>\n",
       "      <td>0.003534</td>\n",
       "      <td>7.163270e-02</td>\n",
       "      <td>0.000356</td>\n",
       "      <td>0.010759</td>\n",
       "      <td>0.030712</td>\n",
       "      <td>0.000181</td>\n",
       "      <td>1.421953e-03</td>\n",
       "    </tr>\n",
       "  </tbody>\n",
       "</table>\n",
       "<p>5 rows × 121 columns</p>\n",
       "</div>"
      ],
      "text/plain": [
       "                                 id  Afghan_hound  African_hunting_dog  \\\n",
       "0  000621fb3cbb32d8935728e48679680e      0.044146             0.000836   \n",
       "1  00102ee9d8eb90812350685311fe5890      0.000053             0.002142   \n",
       "2  0012a730dfa437f5f3613fb75efcd4ce      0.005891             0.009408   \n",
       "3  001510bc8570bbeee98c8d80c8a95ec1      0.006861             0.017898   \n",
       "4  001a5f3114548acdefa3d4da05474c2e      0.063607             0.016154   \n",
       "\n",
       "       Airedale  American_Staffordshire_terrier  Appenzeller  \\\n",
       "0  1.491983e-03                        0.025924     0.031389   \n",
       "1  4.876950e-07                        0.001794     0.000006   \n",
       "2  5.483827e-03                        0.004339     0.004178   \n",
       "3  7.950988e-03                        0.016219     0.004661   \n",
       "4  5.255191e-05                        0.004238     0.001516   \n",
       "\n",
       "   Australian_terrier  Bedlington_terrier  Bernese_mountain_dog  \\\n",
       "0            0.001793            0.007022              0.000778   \n",
       "1            0.000016            0.000054              0.000005   \n",
       "2            0.003435            0.003224              0.006300   \n",
       "3            0.004465            0.005952              0.013875   \n",
       "4            0.050634            0.000908              0.000330   \n",
       "\n",
       "   Blenheim_spaniel           ...             schipperke  silky_terrier  \\\n",
       "0          0.000100           ...               0.000984       0.006930   \n",
       "1          0.000065           ...               0.000034       0.003036   \n",
       "2          0.002957           ...               0.019221       0.002095   \n",
       "3          0.004067           ...               0.004622       0.004725   \n",
       "4          0.003061           ...               0.000522       0.000324   \n",
       "\n",
       "   soft-coated_wheaten_terrier  standard_poodle  standard_schnauzer  \\\n",
       "0                     0.000143         0.020064        6.449800e-03   \n",
       "1                     0.000013         0.000136        9.788290e-07   \n",
       "2                     0.002253         0.003296        5.883866e-03   \n",
       "3                     0.012811         0.001946        3.623846e-03   \n",
       "4                     0.000124         0.003534        7.163270e-02   \n",
       "\n",
       "   toy_poodle  toy_terrier    vizsla   whippet  wire-haired_fox_terrier  \n",
       "0    0.000077     0.000434  0.001953  0.001831             4.572930e-06  \n",
       "1    0.000027     0.000311  0.000005  0.006817             4.646315e-07  \n",
       "2    0.004804     0.004247  0.010778  0.001348             5.693787e-03  \n",
       "3    0.012221     0.001624  0.000949  0.002946             1.911383e-03  \n",
       "4    0.000356     0.010759  0.030712  0.000181             1.421953e-03  \n",
       "\n",
       "[5 rows x 121 columns]"
      ]
     },
     "execution_count": 13,
     "metadata": {},
     "output_type": "execute_result"
    }
   ],
   "source": [
    "sub = pd.DataFrame(preds)\n",
    "# Set column names to those generated by the one-hot encoding earlier\n",
    "col_names = one_hot.columns.values\n",
    "sub.columns = col_names\n",
    "# Insert the column id from the sample_submission at the start of the data frame\n",
    "sub.insert(0, 'id', labels_test['id'])\n",
    "sub.head(5)"
   ]
  },
  {
   "cell_type": "code",
   "execution_count": 19,
   "metadata": {
    "collapsed": true
   },
   "outputs": [],
   "source": [
    "sub.to_csv(\"C:/Users/rites/Desktop/dogbreed/sample_submission.csv\")"
   ]
  }
 ],
 "metadata": {
  "kernelspec": {
   "display_name": "Python 3",
   "language": "python",
   "name": "python3"
  },
  "language_info": {
   "codemirror_mode": {
    "name": "ipython",
    "version": 3
   },
   "file_extension": ".py",
   "mimetype": "text/x-python",
   "name": "python",
   "nbconvert_exporter": "python",
   "pygments_lexer": "ipython3",
   "version": "3.6.2"
  }
 },
 "nbformat": 4,
 "nbformat_minor": 1
}
